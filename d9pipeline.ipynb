{
 "cells": [
  {
   "cell_type": "code",
   "execution_count": 1,
   "metadata": {},
   "outputs": [],
   "source": [
    "import pandas as pd\n",
    "import numpy as np\n",
    "import matplotlib.pyplot as plt\n",
    "import seaborn as sb"
   ]
  },
  {
   "cell_type": "code",
   "execution_count": 4,
   "metadata": {},
   "outputs": [],
   "source": [
    "from sklearn.linear_model import LinearRegression,Ridge,Lasso,ElasticNet"
   ]
  },
  {
   "cell_type": "code",
   "execution_count": null,
   "metadata": {},
   "outputs": [],
   "source": [
    "modelA = LinearRegression()\n",
    "modelB = Ridge()\n",
    "modelC = Lasso()\n",
    "modelD = ElasticNet()\n",
    "\n",
    "modelA.fit(df[['x']],df['y'])\n",
    "modelB.fit(df[['x']],df['y'])\n",
    "modelC.fit(df[['x']],df['y'])\n",
    "modelD.fit(df[['x']],df['y'])"
   ]
  },
  {
   "cell_type": "code",
   "execution_count": null,
   "metadata": {},
   "outputs": [],
   "source": [
    "df[\"y'A\"] = modelA.predict(df[['x']])\n",
    "df[\"y'B\"] = modelB.predict(df[['x']])\n",
    "df[\"y'C\"] = modelC.predict(df[['x']])\n",
    "df[\"y'D\"] = modelD.predict(df[['x']])"
   ]
  },
  {
   "cell_type": "code",
   "execution_count": null,
   "metadata": {},
   "outputs": [],
   "source": [
    "plt.plot(df['x'],df['y'],'b-')\n",
    "plt.plot(df['x'],df[\"y'A\"],'y-')\n",
    "plt.plot(df['x'],df[\"y'B\"],'r-')\n",
    "plt.plot(df['x'],df[\"y'C\"],'g-')\n",
    "plt.plot(df['x'],df[\"y'D\"],'k-')"
   ]
  },
  {
   "cell_type": "code",
   "execution_count": 5,
   "metadata": {},
   "outputs": [],
   "source": [
    "from sklearn.preprocessing import PolynomialFeatures\n",
    "from sklearn.pipeline import make_pipeline"
   ]
  },
  {
   "cell_type": "code",
   "execution_count": null,
   "metadata": {},
   "outputs": [],
   "source": [
    "pipe = make_pipeline(\n",
    "        PolynomialFeatures(5,include_bias=False),\n",
    "        LinearRegression())\n",
    "pipe.fit(df[['x']],df['y'])\n",
    "df[\"y'poly\"] = pipe.predict(df[['x']])"
   ]
  }
 ],
 "metadata": {
  "kernelspec": {
   "display_name": "Python 3",
   "language": "python",
   "name": "python3"
  },
  "language_info": {
   "codemirror_mode": {
    "name": "ipython",
    "version": 3
   },
   "file_extension": ".py",
   "mimetype": "text/x-python",
   "name": "python",
   "nbconvert_exporter": "python",
   "pygments_lexer": "ipython3",
   "version": "3.7.6"
  }
 },
 "nbformat": 4,
 "nbformat_minor": 4
}
