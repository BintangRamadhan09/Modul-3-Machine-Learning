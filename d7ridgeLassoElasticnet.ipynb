{
 "cells": [
  {
   "cell_type": "code",
   "execution_count": 7,
   "metadata": {},
   "outputs": [],
   "source": [
    "import pandas as pd\n",
    "import numpy as np\n",
    "import matplotlib.pyplot as plt\n",
    "from sklearn.linear_model import LinearRegression"
   ]
  },
  {
   "cell_type": "code",
   "execution_count": 11,
   "metadata": {},
   "outputs": [
    {
     "data": {
      "text/plain": [
       "[<matplotlib.lines.Line2D at 0x2b5ffe3dc48>]"
      ]
     },
     "execution_count": 11,
     "metadata": {},
     "output_type": "execute_result"
    },
    {
     "data": {
      "image/png": "[encoded data removed]",
      "text/plain": [
       "<Figure size 432x288 with 1 Axes>"
      ]
     },
     "metadata": {
      "needs_background": "light"
     },
     "output_type": "display_data"
    }
   ],
   "source": [
    "data = {\n",
    "    'x':np.arange(10),\n",
    "    'y':np.arange(10) + np.random.randn(10),\n",
    "}\n",
    "df = pd.DataFrame(data)\n",
    "plt.plot(df['x'],df['y'],'ro-')"
   ]
  },
  {
   "cell_type": "markdown",
   "metadata": {},
   "source": [
    "### Linear Regression, train with all data"
   ]
  },
  {
   "cell_type": "code",
   "execution_count": 18,
   "metadata": {},
   "outputs": [
    {
     "name": "stdout",
     "output_type": "stream",
     "text": [
      "slope m = [1.1993944]\n",
      "intercept c = -1.0859235463900205\n"
     ]
    }
   ],
   "source": [
    "model = LinearRegression()\n",
    "model.fit(df[['x']],df['y'])\n",
    "print('slope m =',model.coef_)\n",
    "print('intercept c =',model.intercept_)"
   ]
  },
  {
   "cell_type": "code",
   "execution_count": 25,
   "metadata": {},
   "outputs": [
    {
     "data": {
      "text/html": [
       "<div>\n",
       "<style scoped>\n",
       "    .dataframe tbody tr th:only-of-type {\n",
       "        vertical-align: middle;\n",
       "    }\n",
       "\n",
       "    .dataframe tbody tr th {\n",
       "        vertical-align: top;\n",
       "    }\n",
       "\n",
       "    .dataframe thead th {\n",
       "        text-align: right;\n",
       "    }\n",
       "</style>\n",
       "<table border=\"1\" class=\"dataframe\">\n",
       "  <thead>\n",
       "    <tr style=\"text-align: right;\">\n",
       "      <th></th>\n",
       "      <th>x</th>\n",
       "      <th>y</th>\n",
       "      <th>y'all</th>\n",
       "    </tr>\n",
       "  </thead>\n",
       "  <tbody>\n",
       "    <tr>\n",
       "      <td>0</td>\n",
       "      <td>0</td>\n",
       "      <td>-1.376059</td>\n",
       "      <td>-1.085924</td>\n",
       "    </tr>\n",
       "    <tr>\n",
       "      <td>1</td>\n",
       "      <td>1</td>\n",
       "      <td>0.902988</td>\n",
       "      <td>0.113471</td>\n",
       "    </tr>\n",
       "    <tr>\n",
       "      <td>2</td>\n",
       "      <td>2</td>\n",
       "      <td>1.104525</td>\n",
       "      <td>1.312865</td>\n",
       "    </tr>\n",
       "    <tr>\n",
       "      <td>3</td>\n",
       "      <td>3</td>\n",
       "      <td>2.162218</td>\n",
       "      <td>2.512260</td>\n",
       "    </tr>\n",
       "    <tr>\n",
       "      <td>4</td>\n",
       "      <td>4</td>\n",
       "      <td>4.392650</td>\n",
       "      <td>3.711654</td>\n",
       "    </tr>\n",
       "    <tr>\n",
       "      <td>5</td>\n",
       "      <td>5</td>\n",
       "      <td>4.865771</td>\n",
       "      <td>4.911048</td>\n",
       "    </tr>\n",
       "    <tr>\n",
       "      <td>6</td>\n",
       "      <td>6</td>\n",
       "      <td>5.772748</td>\n",
       "      <td>6.110443</td>\n",
       "    </tr>\n",
       "    <tr>\n",
       "      <td>7</td>\n",
       "      <td>7</td>\n",
       "      <td>6.177792</td>\n",
       "      <td>7.309837</td>\n",
       "    </tr>\n",
       "    <tr>\n",
       "      <td>8</td>\n",
       "      <td>8</td>\n",
       "      <td>8.416252</td>\n",
       "      <td>8.509232</td>\n",
       "    </tr>\n",
       "    <tr>\n",
       "      <td>9</td>\n",
       "      <td>9</td>\n",
       "      <td>10.694628</td>\n",
       "      <td>9.708626</td>\n",
       "    </tr>\n",
       "  </tbody>\n",
       "</table>\n",
       "</div>"
      ],
      "text/plain": [
       "   x          y     y'all\n",
       "0  0  -1.376059 -1.085924\n",
       "1  1   0.902988  0.113471\n",
       "2  2   1.104525  1.312865\n",
       "3  3   2.162218  2.512260\n",
       "4  4   4.392650  3.711654\n",
       "5  5   4.865771  4.911048\n",
       "6  6   5.772748  6.110443\n",
       "7  7   6.177792  7.309837\n",
       "8  8   8.416252  8.509232\n",
       "9  9  10.694628  9.708626"
      ]
     },
     "execution_count": 25,
     "metadata": {},
     "output_type": "execute_result"
    }
   ],
   "source": [
    "df[\"y'all\"] = model.predict(df[['x']])\n",
    "df"
   ]
  },
  {
   "cell_type": "code",
   "execution_count": 24,
   "metadata": {},
   "outputs": [
    {
     "data": {
      "text/plain": [
       "<matplotlib.legend.Legend at 0x2b580145b88>"
      ]
     },
     "execution_count": 24,
     "metadata": {},
     "output_type": "execute_result"
    },
    {
     "data": {
      "image/png": "[encoded data removed]",
      "text/plain": [
       "<Figure size 432x288 with 1 Axes>"
      ]
     },
     "metadata": {
      "needs_background": "light"
     },
     "output_type": "display_data"
    }
   ],
   "source": [
    "# ordinary least squares /nama lain linear regression\n",
    "plt.plot(df['x'],df['y'],'ro-')\n",
    "plt.plot(df['x'],df[\"y'all\"],'g-')\n",
    "plt.legend(['Data','OLS all'])\n"
   ]
  },
  {
   "cell_type": "markdown",
   "metadata": {},
   "source": [
    "<hr>\n",
    "\n",
    "### Linear Regresion, train 80% random data"
   ]
  },
  {
   "cell_type": "code",
   "execution_count": 20,
   "metadata": {},
   "outputs": [],
   "source": [
    "from sklearn.model_selection import train_test_split\n",
    "# train_test_split"
   ]
  },
  {
   "cell_type": "code",
   "execution_count": 23,
   "metadata": {},
   "outputs": [
    {
     "name": "stdout",
     "output_type": "stream",
     "text": [
      "   x\n",
      "8  8\n",
      "5  5\n",
      "8    8.416252\n",
      "5    4.865771\n",
      "Name: y, dtype: float64\n"
     ]
    }
   ],
   "source": [
    "x_train,x_test,y_train,y_test = train_test_split(df[['x']],df['y'],test_size=.2)\n",
    "print(x_test)\n",
    "print(y_test)\n",
    "# print(x_train)"
   ]
  },
  {
   "cell_type": "code",
   "execution_count": 28,
   "metadata": {},
   "outputs": [
    {
     "data": {
      "text/html": [
       "<div>\n",
       "<style scoped>\n",
       "    .dataframe tbody tr th:only-of-type {\n",
       "        vertical-align: middle;\n",
       "    }\n",
       "\n",
       "    .dataframe tbody tr th {\n",
       "        vertical-align: top;\n",
       "    }\n",
       "\n",
       "    .dataframe thead th {\n",
       "        text-align: right;\n",
       "    }\n",
       "</style>\n",
       "<table border=\"1\" class=\"dataframe\">\n",
       "  <thead>\n",
       "    <tr style=\"text-align: right;\">\n",
       "      <th></th>\n",
       "      <th>x</th>\n",
       "      <th>y</th>\n",
       "      <th>y'all</th>\n",
       "      <th>y'80</th>\n",
       "    </tr>\n",
       "  </thead>\n",
       "  <tbody>\n",
       "    <tr>\n",
       "      <td>0</td>\n",
       "      <td>0</td>\n",
       "      <td>-1.376059</td>\n",
       "      <td>-1.085924</td>\n",
       "      <td>-1.093182</td>\n",
       "    </tr>\n",
       "    <tr>\n",
       "      <td>1</td>\n",
       "      <td>1</td>\n",
       "      <td>0.902988</td>\n",
       "      <td>0.113471</td>\n",
       "      <td>0.112347</td>\n",
       "    </tr>\n",
       "    <tr>\n",
       "      <td>2</td>\n",
       "      <td>2</td>\n",
       "      <td>1.104525</td>\n",
       "      <td>1.312865</td>\n",
       "      <td>1.317877</td>\n",
       "    </tr>\n",
       "    <tr>\n",
       "      <td>3</td>\n",
       "      <td>3</td>\n",
       "      <td>2.162218</td>\n",
       "      <td>2.512260</td>\n",
       "      <td>2.523407</td>\n",
       "    </tr>\n",
       "    <tr>\n",
       "      <td>4</td>\n",
       "      <td>4</td>\n",
       "      <td>4.392650</td>\n",
       "      <td>3.711654</td>\n",
       "      <td>3.728936</td>\n",
       "    </tr>\n",
       "    <tr>\n",
       "      <td>5</td>\n",
       "      <td>5</td>\n",
       "      <td>4.865771</td>\n",
       "      <td>4.911048</td>\n",
       "      <td>4.934466</td>\n",
       "    </tr>\n",
       "    <tr>\n",
       "      <td>6</td>\n",
       "      <td>6</td>\n",
       "      <td>5.772748</td>\n",
       "      <td>6.110443</td>\n",
       "      <td>6.139995</td>\n",
       "    </tr>\n",
       "    <tr>\n",
       "      <td>7</td>\n",
       "      <td>7</td>\n",
       "      <td>6.177792</td>\n",
       "      <td>7.309837</td>\n",
       "      <td>7.345525</td>\n",
       "    </tr>\n",
       "    <tr>\n",
       "      <td>8</td>\n",
       "      <td>8</td>\n",
       "      <td>8.416252</td>\n",
       "      <td>8.509232</td>\n",
       "      <td>8.551055</td>\n",
       "    </tr>\n",
       "    <tr>\n",
       "      <td>9</td>\n",
       "      <td>9</td>\n",
       "      <td>10.694628</td>\n",
       "      <td>9.708626</td>\n",
       "      <td>9.756584</td>\n",
       "    </tr>\n",
       "  </tbody>\n",
       "</table>\n",
       "</div>"
      ],
      "text/plain": [
       "   x          y     y'all      y'80\n",
       "0  0  -1.376059 -1.085924 -1.093182\n",
       "1  1   0.902988  0.113471  0.112347\n",
       "2  2   1.104525  1.312865  1.317877\n",
       "3  3   2.162218  2.512260  2.523407\n",
       "4  4   4.392650  3.711654  3.728936\n",
       "5  5   4.865771  4.911048  4.934466\n",
       "6  6   5.772748  6.110443  6.139995\n",
       "7  7   6.177792  7.309837  7.345525\n",
       "8  8   8.416252  8.509232  8.551055\n",
       "9  9  10.694628  9.708626  9.756584"
      ]
     },
     "execution_count": 28,
     "metadata": {},
     "output_type": "execute_result"
    }
   ],
   "source": [
    "model.fit(x_train,y_train)\n",
    "df[\"y'80\"] = model.predict(df[['x']])\n",
    "df"
   ]
  },
  {
   "cell_type": "code",
   "execution_count": 31,
   "metadata": {},
   "outputs": [
    {
     "data": {
      "text/plain": [
       "<matplotlib.legend.Legend at 0x2b580247e08>"
      ]
     },
     "execution_count": 31,
     "metadata": {},
     "output_type": "execute_result"
    },
    {
     "data": {
      "image/png": "[encoded data removed]",
      "text/plain": [
       "<Figure size 432x288 with 1 Axes>"
      ]
     },
     "metadata": {
      "needs_background": "light"
     },
     "output_type": "display_data"
    }
   ],
   "source": [
    "plt.plot(df['x'],df['y'],'ro-')\n",
    "plt.plot(df['x'],df[\"y'all\"],'g-')\n",
    "plt.plot(df['x'],df[\"y'80\"],'b-*')\n",
    "plt.legend(['Data','OLS all','OLS 80'])"
   ]
  },
  {
   "cell_type": "markdown",
   "metadata": {},
   "source": [
    "<hr>\n",
    "\n",
    "### Linear Regression, train 2 data"
   ]
  },
  {
   "cell_type": "code",
   "execution_count": 32,
   "metadata": {},
   "outputs": [
    {
     "data": {
      "text/html": [
       "<div>\n",
       "<style scoped>\n",
       "    .dataframe tbody tr th:only-of-type {\n",
       "        vertical-align: middle;\n",
       "    }\n",
       "\n",
       "    .dataframe tbody tr th {\n",
       "        vertical-align: top;\n",
       "    }\n",
       "\n",
       "    .dataframe thead th {\n",
       "        text-align: right;\n",
       "    }\n",
       "</style>\n",
       "<table border=\"1\" class=\"dataframe\">\n",
       "  <thead>\n",
       "    <tr style=\"text-align: right;\">\n",
       "      <th></th>\n",
       "      <th>x</th>\n",
       "      <th>y</th>\n",
       "      <th>y'all</th>\n",
       "      <th>y'80</th>\n",
       "      <th>y'2</th>\n",
       "    </tr>\n",
       "  </thead>\n",
       "  <tbody>\n",
       "    <tr>\n",
       "      <td>0</td>\n",
       "      <td>0</td>\n",
       "      <td>-1.376059</td>\n",
       "      <td>-1.085924</td>\n",
       "      <td>-1.093182</td>\n",
       "      <td>-1.376059</td>\n",
       "    </tr>\n",
       "    <tr>\n",
       "      <td>1</td>\n",
       "      <td>1</td>\n",
       "      <td>0.902988</td>\n",
       "      <td>0.113471</td>\n",
       "      <td>0.112347</td>\n",
       "      <td>0.902988</td>\n",
       "    </tr>\n",
       "    <tr>\n",
       "      <td>2</td>\n",
       "      <td>2</td>\n",
       "      <td>1.104525</td>\n",
       "      <td>1.312865</td>\n",
       "      <td>1.317877</td>\n",
       "      <td>3.182036</td>\n",
       "    </tr>\n",
       "    <tr>\n",
       "      <td>3</td>\n",
       "      <td>3</td>\n",
       "      <td>2.162218</td>\n",
       "      <td>2.512260</td>\n",
       "      <td>2.523407</td>\n",
       "      <td>5.461083</td>\n",
       "    </tr>\n",
       "    <tr>\n",
       "      <td>4</td>\n",
       "      <td>4</td>\n",
       "      <td>4.392650</td>\n",
       "      <td>3.711654</td>\n",
       "      <td>3.728936</td>\n",
       "      <td>7.740131</td>\n",
       "    </tr>\n",
       "    <tr>\n",
       "      <td>5</td>\n",
       "      <td>5</td>\n",
       "      <td>4.865771</td>\n",
       "      <td>4.911048</td>\n",
       "      <td>4.934466</td>\n",
       "      <td>10.019178</td>\n",
       "    </tr>\n",
       "    <tr>\n",
       "      <td>6</td>\n",
       "      <td>6</td>\n",
       "      <td>5.772748</td>\n",
       "      <td>6.110443</td>\n",
       "      <td>6.139995</td>\n",
       "      <td>12.298226</td>\n",
       "    </tr>\n",
       "    <tr>\n",
       "      <td>7</td>\n",
       "      <td>7</td>\n",
       "      <td>6.177792</td>\n",
       "      <td>7.309837</td>\n",
       "      <td>7.345525</td>\n",
       "      <td>14.577273</td>\n",
       "    </tr>\n",
       "    <tr>\n",
       "      <td>8</td>\n",
       "      <td>8</td>\n",
       "      <td>8.416252</td>\n",
       "      <td>8.509232</td>\n",
       "      <td>8.551055</td>\n",
       "      <td>16.856321</td>\n",
       "    </tr>\n",
       "    <tr>\n",
       "      <td>9</td>\n",
       "      <td>9</td>\n",
       "      <td>10.694628</td>\n",
       "      <td>9.708626</td>\n",
       "      <td>9.756584</td>\n",
       "      <td>19.135368</td>\n",
       "    </tr>\n",
       "  </tbody>\n",
       "</table>\n",
       "</div>"
      ],
      "text/plain": [
       "   x          y     y'all      y'80        y'2\n",
       "0  0  -1.376059 -1.085924 -1.093182  -1.376059\n",
       "1  1   0.902988  0.113471  0.112347   0.902988\n",
       "2  2   1.104525  1.312865  1.317877   3.182036\n",
       "3  3   2.162218  2.512260  2.523407   5.461083\n",
       "4  4   4.392650  3.711654  3.728936   7.740131\n",
       "5  5   4.865771  4.911048  4.934466  10.019178\n",
       "6  6   5.772748  6.110443  6.139995  12.298226\n",
       "7  7   6.177792  7.309837  7.345525  14.577273\n",
       "8  8   8.416252  8.509232  8.551055  16.856321\n",
       "9  9  10.694628  9.708626  9.756584  19.135368"
      ]
     },
     "execution_count": 32,
     "metadata": {},
     "output_type": "execute_result"
    }
   ],
   "source": [
    "model.fit(df[['x']].iloc[:2],df['y'].iloc[:2])\n",
    "df[\"y'2\"] = model.predict(df[['x']])\n",
    "df"
   ]
  },
  {
   "cell_type": "code",
   "execution_count": 33,
   "metadata": {},
   "outputs": [
    {
     "data": {
      "text/plain": [
       "<matplotlib.legend.Legend at 0x2b5802c5d08>"
      ]
     },
     "execution_count": 33,
     "metadata": {},
     "output_type": "execute_result"
    },
    {
     "data": {
      "image/png": "[encoded data removed]",
      "text/plain": [
       "<Figure size 432x288 with 1 Axes>"
      ]
     },
     "metadata": {
      "needs_background": "light"
     },
     "output_type": "display_data"
    }
   ],
   "source": [
    "plt.plot(df['x'],df['y'],'ro-')\n",
    "plt.plot(df['x'],df[\"y'all\"],'g-')\n",
    "plt.plot(df['x'],df[\"y'80\"],'b-*')\n",
    "plt.plot(df['x'],df[\"y'2\"],'k-')\n",
    "plt.legend(['Data','OLS all','OLS 80','OLS 2'])"
   ]
  },
  {
   "cell_type": "code",
   "execution_count": 35,
   "metadata": {},
   "outputs": [
    {
     "data": {
      "text/plain": [
       "<matplotlib.axes._subplots.AxesSubplot at 0x2b580535948>"
      ]
     },
     "execution_count": 35,
     "metadata": {},
     "output_type": "execute_result"
    },
    {
     "data": {
      "image/png": "[encoded data removed]",
      "text/plain": [
       "<Figure size 432x288 with 1 Axes>"
      ]
     },
     "metadata": {
      "needs_background": "light"
     },
     "output_type": "display_data"
    }
   ],
   "source": [
    "# plot residual / selisih antara y dengan y'\n",
    "import seaborn as sb\n",
    "sb.distplot((df['y'] - df[\"y'2\"]))"
   ]
  },
  {
   "cell_type": "markdown",
   "metadata": {},
   "source": [
    "<hr>\n",
    "\n",
    "### Ridge Regression \n",
    "\n",
    "Sum Squared Error $ = \\sum (y - \\hat{y}) ^ 2 $\n",
    "\n",
    "$ SSE = SSE\\quad OLS + \\lambda . m^2 $\n",
    "\n",
    "Nilai penalty L2 Regularization $ + \\lambda . m^2 $"
   ]
  },
  {
   "cell_type": "code",
   "execution_count": 39,
   "metadata": {},
   "outputs": [
    {
     "data": {
      "text/html": [
       "<div>\n",
       "<style scoped>\n",
       "    .dataframe tbody tr th:only-of-type {\n",
       "        vertical-align: middle;\n",
       "    }\n",
       "\n",
       "    .dataframe tbody tr th {\n",
       "        vertical-align: top;\n",
       "    }\n",
       "\n",
       "    .dataframe thead th {\n",
       "        text-align: right;\n",
       "    }\n",
       "</style>\n",
       "<table border=\"1\" class=\"dataframe\">\n",
       "  <thead>\n",
       "    <tr style=\"text-align: right;\">\n",
       "      <th></th>\n",
       "      <th>x</th>\n",
       "      <th>y</th>\n",
       "      <th>y'all</th>\n",
       "      <th>y'80</th>\n",
       "      <th>y'2</th>\n",
       "      <th>y'2ridge</th>\n",
       "    </tr>\n",
       "  </thead>\n",
       "  <tbody>\n",
       "    <tr>\n",
       "      <td>0</td>\n",
       "      <td>0</td>\n",
       "      <td>-1.376059</td>\n",
       "      <td>-1.085924</td>\n",
       "      <td>-1.093182</td>\n",
       "      <td>-1.376059</td>\n",
       "      <td>-0.806297</td>\n",
       "    </tr>\n",
       "    <tr>\n",
       "      <td>1</td>\n",
       "      <td>1</td>\n",
       "      <td>0.902988</td>\n",
       "      <td>0.113471</td>\n",
       "      <td>0.112347</td>\n",
       "      <td>0.902988</td>\n",
       "      <td>0.333226</td>\n",
       "    </tr>\n",
       "    <tr>\n",
       "      <td>2</td>\n",
       "      <td>2</td>\n",
       "      <td>1.104525</td>\n",
       "      <td>1.312865</td>\n",
       "      <td>1.317877</td>\n",
       "      <td>3.182036</td>\n",
       "      <td>1.472750</td>\n",
       "    </tr>\n",
       "    <tr>\n",
       "      <td>3</td>\n",
       "      <td>3</td>\n",
       "      <td>2.162218</td>\n",
       "      <td>2.512260</td>\n",
       "      <td>2.523407</td>\n",
       "      <td>5.461083</td>\n",
       "      <td>2.612274</td>\n",
       "    </tr>\n",
       "    <tr>\n",
       "      <td>4</td>\n",
       "      <td>4</td>\n",
       "      <td>4.392650</td>\n",
       "      <td>3.711654</td>\n",
       "      <td>3.728936</td>\n",
       "      <td>7.740131</td>\n",
       "      <td>3.751798</td>\n",
       "    </tr>\n",
       "    <tr>\n",
       "      <td>5</td>\n",
       "      <td>5</td>\n",
       "      <td>4.865771</td>\n",
       "      <td>4.911048</td>\n",
       "      <td>4.934466</td>\n",
       "      <td>10.019178</td>\n",
       "      <td>4.891322</td>\n",
       "    </tr>\n",
       "    <tr>\n",
       "      <td>6</td>\n",
       "      <td>6</td>\n",
       "      <td>5.772748</td>\n",
       "      <td>6.110443</td>\n",
       "      <td>6.139995</td>\n",
       "      <td>12.298226</td>\n",
       "      <td>6.030845</td>\n",
       "    </tr>\n",
       "    <tr>\n",
       "      <td>7</td>\n",
       "      <td>7</td>\n",
       "      <td>6.177792</td>\n",
       "      <td>7.309837</td>\n",
       "      <td>7.345525</td>\n",
       "      <td>14.577273</td>\n",
       "      <td>7.170369</td>\n",
       "    </tr>\n",
       "    <tr>\n",
       "      <td>8</td>\n",
       "      <td>8</td>\n",
       "      <td>8.416252</td>\n",
       "      <td>8.509232</td>\n",
       "      <td>8.551055</td>\n",
       "      <td>16.856321</td>\n",
       "      <td>8.309893</td>\n",
       "    </tr>\n",
       "    <tr>\n",
       "      <td>9</td>\n",
       "      <td>9</td>\n",
       "      <td>10.694628</td>\n",
       "      <td>9.708626</td>\n",
       "      <td>9.756584</td>\n",
       "      <td>19.135368</td>\n",
       "      <td>9.449417</td>\n",
       "    </tr>\n",
       "  </tbody>\n",
       "</table>\n",
       "</div>"
      ],
      "text/plain": [
       "   x          y     y'all      y'80        y'2  y'2ridge\n",
       "0  0  -1.376059 -1.085924 -1.093182  -1.376059 -0.806297\n",
       "1  1   0.902988  0.113471  0.112347   0.902988  0.333226\n",
       "2  2   1.104525  1.312865  1.317877   3.182036  1.472750\n",
       "3  3   2.162218  2.512260  2.523407   5.461083  2.612274\n",
       "4  4   4.392650  3.711654  3.728936   7.740131  3.751798\n",
       "5  5   4.865771  4.911048  4.934466  10.019178  4.891322\n",
       "6  6   5.772748  6.110443  6.139995  12.298226  6.030845\n",
       "7  7   6.177792  7.309837  7.345525  14.577273  7.170369\n",
       "8  8   8.416252  8.509232  8.551055  16.856321  8.309893\n",
       "9  9  10.694628  9.708626  9.756584  19.135368  9.449417"
      ]
     },
     "execution_count": 39,
     "metadata": {},
     "output_type": "execute_result"
    }
   ],
   "source": [
    "from sklearn.linear_model import Ridge\n",
    "modelR = Ridge(alpha=0.5)\n",
    "modelR.fit(df[['x']].iloc[:2],df['y'].iloc[:2])\n",
    "df[\"y'2ridge\"] = modelR.predict(df[['x']])\n",
    "df"
   ]
  },
  {
   "cell_type": "code",
   "execution_count": 42,
   "metadata": {},
   "outputs": [
    {
     "data": {
      "text/plain": [
       "[<matplotlib.lines.Line2D at 0x2b580716f08>]"
      ]
     },
     "execution_count": 42,
     "metadata": {},
     "output_type": "execute_result"
    },
    {
     "data": {
      "image/png": "[encoded data removed]",
      "text/plain": [
       "<Figure size 432x288 with 1 Axes>"
      ]
     },
     "metadata": {
      "needs_background": "light"
     },
     "output_type": "display_data"
    }
   ],
   "source": [
    "plt.plot(df['x'],df['y'],'ro-')\n",
    "plt.plot(df['x'],df[\"y'2\"],'k-*')\n",
    "plt.plot(df['x'],df[\"y'2ridge\"],'y-')\n"
   ]
  },
  {
   "cell_type": "markdown",
   "metadata": {},
   "source": [
    "<hr>\n",
    "\n",
    "### LASSO Regression\n",
    "\n",
    "(Least Absolute Shrinkage and Selection Operator)\n",
    "\n",
    "Sum Absolute Error OLS $ = \\sum |y - \\hat{y}| $\n",
    "\n",
    "SAE LASSO = SAE OLS $ + \\lambda . |m| $\n",
    "\n",
    "Nilai penalty L2 Regularization $ + \\lambda . |m| $"
   ]
  },
  {
   "cell_type": "code",
   "execution_count": 48,
   "metadata": {},
   "outputs": [
    {
     "data": {
      "text/html": [
       "<div>\n",
       "<style scoped>\n",
       "    .dataframe tbody tr th:only-of-type {\n",
       "        vertical-align: middle;\n",
       "    }\n",
       "\n",
       "    .dataframe tbody tr th {\n",
       "        vertical-align: top;\n",
       "    }\n",
       "\n",
       "    .dataframe thead th {\n",
       "        text-align: right;\n",
       "    }\n",
       "</style>\n",
       "<table border=\"1\" class=\"dataframe\">\n",
       "  <thead>\n",
       "    <tr style=\"text-align: right;\">\n",
       "      <th></th>\n",
       "      <th>x</th>\n",
       "      <th>y</th>\n",
       "      <th>y'all</th>\n",
       "      <th>y'80</th>\n",
       "      <th>y'2</th>\n",
       "      <th>y'2ridge</th>\n",
       "      <th>y'2lasso</th>\n",
       "    </tr>\n",
       "  </thead>\n",
       "  <tbody>\n",
       "    <tr>\n",
       "      <td>0</td>\n",
       "      <td>0</td>\n",
       "      <td>-1.376059</td>\n",
       "      <td>-1.085924</td>\n",
       "      <td>-1.093182</td>\n",
       "      <td>-1.376059</td>\n",
       "      <td>-0.806297</td>\n",
       "      <td>-0.776059</td>\n",
       "    </tr>\n",
       "    <tr>\n",
       "      <td>1</td>\n",
       "      <td>1</td>\n",
       "      <td>0.902988</td>\n",
       "      <td>0.113471</td>\n",
       "      <td>0.112347</td>\n",
       "      <td>0.902988</td>\n",
       "      <td>0.333226</td>\n",
       "      <td>0.302988</td>\n",
       "    </tr>\n",
       "    <tr>\n",
       "      <td>2</td>\n",
       "      <td>2</td>\n",
       "      <td>1.104525</td>\n",
       "      <td>1.312865</td>\n",
       "      <td>1.317877</td>\n",
       "      <td>3.182036</td>\n",
       "      <td>1.472750</td>\n",
       "      <td>1.382036</td>\n",
       "    </tr>\n",
       "    <tr>\n",
       "      <td>3</td>\n",
       "      <td>3</td>\n",
       "      <td>2.162218</td>\n",
       "      <td>2.512260</td>\n",
       "      <td>2.523407</td>\n",
       "      <td>5.461083</td>\n",
       "      <td>2.612274</td>\n",
       "      <td>2.461083</td>\n",
       "    </tr>\n",
       "    <tr>\n",
       "      <td>4</td>\n",
       "      <td>4</td>\n",
       "      <td>4.392650</td>\n",
       "      <td>3.711654</td>\n",
       "      <td>3.728936</td>\n",
       "      <td>7.740131</td>\n",
       "      <td>3.751798</td>\n",
       "      <td>3.540131</td>\n",
       "    </tr>\n",
       "    <tr>\n",
       "      <td>5</td>\n",
       "      <td>5</td>\n",
       "      <td>4.865771</td>\n",
       "      <td>4.911048</td>\n",
       "      <td>4.934466</td>\n",
       "      <td>10.019178</td>\n",
       "      <td>4.891322</td>\n",
       "      <td>4.619178</td>\n",
       "    </tr>\n",
       "    <tr>\n",
       "      <td>6</td>\n",
       "      <td>6</td>\n",
       "      <td>5.772748</td>\n",
       "      <td>6.110443</td>\n",
       "      <td>6.139995</td>\n",
       "      <td>12.298226</td>\n",
       "      <td>6.030845</td>\n",
       "      <td>5.698226</td>\n",
       "    </tr>\n",
       "    <tr>\n",
       "      <td>7</td>\n",
       "      <td>7</td>\n",
       "      <td>6.177792</td>\n",
       "      <td>7.309837</td>\n",
       "      <td>7.345525</td>\n",
       "      <td>14.577273</td>\n",
       "      <td>7.170369</td>\n",
       "      <td>6.777273</td>\n",
       "    </tr>\n",
       "    <tr>\n",
       "      <td>8</td>\n",
       "      <td>8</td>\n",
       "      <td>8.416252</td>\n",
       "      <td>8.509232</td>\n",
       "      <td>8.551055</td>\n",
       "      <td>16.856321</td>\n",
       "      <td>8.309893</td>\n",
       "      <td>7.856321</td>\n",
       "    </tr>\n",
       "    <tr>\n",
       "      <td>9</td>\n",
       "      <td>9</td>\n",
       "      <td>10.694628</td>\n",
       "      <td>9.708626</td>\n",
       "      <td>9.756584</td>\n",
       "      <td>19.135368</td>\n",
       "      <td>9.449417</td>\n",
       "      <td>8.935368</td>\n",
       "    </tr>\n",
       "  </tbody>\n",
       "</table>\n",
       "</div>"
      ],
      "text/plain": [
       "   x          y     y'all      y'80        y'2  y'2ridge  y'2lasso\n",
       "0  0  -1.376059 -1.085924 -1.093182  -1.376059 -0.806297 -0.776059\n",
       "1  1   0.902988  0.113471  0.112347   0.902988  0.333226  0.302988\n",
       "2  2   1.104525  1.312865  1.317877   3.182036  1.472750  1.382036\n",
       "3  3   2.162218  2.512260  2.523407   5.461083  2.612274  2.461083\n",
       "4  4   4.392650  3.711654  3.728936   7.740131  3.751798  3.540131\n",
       "5  5   4.865771  4.911048  4.934466  10.019178  4.891322  4.619178\n",
       "6  6   5.772748  6.110443  6.139995  12.298226  6.030845  5.698226\n",
       "7  7   6.177792  7.309837  7.345525  14.577273  7.170369  6.777273\n",
       "8  8   8.416252  8.509232  8.551055  16.856321  8.309893  7.856321\n",
       "9  9  10.694628  9.708626  9.756584  19.135368  9.449417  8.935368"
      ]
     },
     "execution_count": 48,
     "metadata": {},
     "output_type": "execute_result"
    }
   ],
   "source": [
    "from sklearn.linear_model import Lasso\n",
    "modelL = Lasso(alpha=0.3)\n",
    "modelL.fit(df[['x']].iloc[:2],df['y'].iloc[:2])\n",
    "df[\"y'2lasso\"] = modelL.predict(df[['x']])\n",
    "df"
   ]
  },
  {
   "cell_type": "code",
   "execution_count": 51,
   "metadata": {},
   "outputs": [
    {
     "data": {
      "text/plain": [
       "<matplotlib.legend.Legend at 0x2b581927b88>"
      ]
     },
     "execution_count": 51,
     "metadata": {},
     "output_type": "execute_result"
    },
    {
     "data": {
      "image/png": "[encoded data removed]",
      "text/plain": [
       "<Figure size 432x288 with 1 Axes>"
      ]
     },
     "metadata": {
      "needs_background": "light"
     },
     "output_type": "display_data"
    }
   ],
   "source": [
    "plt.plot(df['x'],df['y'],'ro-')\n",
    "plt.plot(df['x'],df[\"y'2\"],'k-*')\n",
    "plt.plot(df['x'],df[\"y'2ridge\"],'y-')\n",
    "plt.plot(df['x'],df[\"y'2lasso\"],'g-')\n",
    "plt.legend(['Data','OLS 2',\"y'2ridge\",\"y'2lasso\"])"
   ]
  },
  {
   "cell_type": "code",
   "execution_count": 53,
   "metadata": {},
   "outputs": [
    {
     "name": "stdout",
     "output_type": "stream",
     "text": [
      "RMSE OLS 2 5.55496016208591\n",
      "RMSE Ridge 2 0.6334374470000963\n",
      "RMSE LASSO 2 0.7380635753233151\n"
     ]
    }
   ],
   "source": [
    "from sklearn.metrics import mean_squared_error\n",
    "print('RMSE OLS 2', np.sqrt(mean_squared_error(df['y'],df[\"y'2\"])))\n",
    "print('RMSE Ridge 2', np.sqrt(mean_squared_error(df['y'],df[\"y'2ridge\"])))\n",
    "print('RMSE LASSO 2', np.sqrt(mean_squared_error(df['y'],df[\"y'2lasso\"])))"
   ]
  },
  {
   "cell_type": "markdown",
   "metadata": {},
   "source": [
    "<hr>\n",
    "\n",
    "### Elastic_net Regression\n",
    "\n",
    "Sum Squared Error OLS $ = \\sum |y - \\hat{y}| $\n",
    "\n",
    "SSE EN = SSE OLS\n",
    "$\\displaystyle + \\lambda_{ridge} . m^2 + \\lambda_{lasso} . |m| $\n",
    "\n",
    "Nilai penalty L1 + L2 Regularization $\\displaystyle + \\lambda_{ridge} . |m| + \\lambda_{lasso} |m| $"
   ]
  },
  {
   "cell_type": "code",
   "execution_count": 60,
   "metadata": {},
   "outputs": [
    {
     "data": {
      "text/html": [
       "<div>\n",
       "<style scoped>\n",
       "    .dataframe tbody tr th:only-of-type {\n",
       "        vertical-align: middle;\n",
       "    }\n",
       "\n",
       "    .dataframe tbody tr th {\n",
       "        vertical-align: top;\n",
       "    }\n",
       "\n",
       "    .dataframe thead th {\n",
       "        text-align: right;\n",
       "    }\n",
       "</style>\n",
       "<table border=\"1\" class=\"dataframe\">\n",
       "  <thead>\n",
       "    <tr style=\"text-align: right;\">\n",
       "      <th></th>\n",
       "      <th>x</th>\n",
       "      <th>y</th>\n",
       "      <th>y'all</th>\n",
       "      <th>y'80</th>\n",
       "      <th>y'2</th>\n",
       "      <th>y'2ridge</th>\n",
       "      <th>y'2lasso</th>\n",
       "      <th>y'2elastic</th>\n",
       "    </tr>\n",
       "  </thead>\n",
       "  <tbody>\n",
       "    <tr>\n",
       "      <td>0</td>\n",
       "      <td>0</td>\n",
       "      <td>-1.376059</td>\n",
       "      <td>-1.085924</td>\n",
       "      <td>-1.093182</td>\n",
       "      <td>-1.376059</td>\n",
       "      <td>-0.806297</td>\n",
       "      <td>-0.776059</td>\n",
       "      <td>-0.829551</td>\n",
       "    </tr>\n",
       "    <tr>\n",
       "      <td>1</td>\n",
       "      <td>1</td>\n",
       "      <td>0.902988</td>\n",
       "      <td>0.113471</td>\n",
       "      <td>0.112347</td>\n",
       "      <td>0.902988</td>\n",
       "      <td>0.333226</td>\n",
       "      <td>0.302988</td>\n",
       "      <td>0.356480</td>\n",
       "    </tr>\n",
       "    <tr>\n",
       "      <td>2</td>\n",
       "      <td>2</td>\n",
       "      <td>1.104525</td>\n",
       "      <td>1.312865</td>\n",
       "      <td>1.317877</td>\n",
       "      <td>3.182036</td>\n",
       "      <td>1.472750</td>\n",
       "      <td>1.382036</td>\n",
       "      <td>1.542512</td>\n",
       "    </tr>\n",
       "    <tr>\n",
       "      <td>3</td>\n",
       "      <td>3</td>\n",
       "      <td>2.162218</td>\n",
       "      <td>2.512260</td>\n",
       "      <td>2.523407</td>\n",
       "      <td>5.461083</td>\n",
       "      <td>2.612274</td>\n",
       "      <td>2.461083</td>\n",
       "      <td>2.728544</td>\n",
       "    </tr>\n",
       "    <tr>\n",
       "      <td>4</td>\n",
       "      <td>4</td>\n",
       "      <td>4.392650</td>\n",
       "      <td>3.711654</td>\n",
       "      <td>3.728936</td>\n",
       "      <td>7.740131</td>\n",
       "      <td>3.751798</td>\n",
       "      <td>3.540131</td>\n",
       "      <td>3.914575</td>\n",
       "    </tr>\n",
       "    <tr>\n",
       "      <td>5</td>\n",
       "      <td>5</td>\n",
       "      <td>4.865771</td>\n",
       "      <td>4.911048</td>\n",
       "      <td>4.934466</td>\n",
       "      <td>10.019178</td>\n",
       "      <td>4.891322</td>\n",
       "      <td>4.619178</td>\n",
       "      <td>5.100607</td>\n",
       "    </tr>\n",
       "    <tr>\n",
       "      <td>6</td>\n",
       "      <td>6</td>\n",
       "      <td>5.772748</td>\n",
       "      <td>6.110443</td>\n",
       "      <td>6.139995</td>\n",
       "      <td>12.298226</td>\n",
       "      <td>6.030845</td>\n",
       "      <td>5.698226</td>\n",
       "      <td>6.286639</td>\n",
       "    </tr>\n",
       "    <tr>\n",
       "      <td>7</td>\n",
       "      <td>7</td>\n",
       "      <td>6.177792</td>\n",
       "      <td>7.309837</td>\n",
       "      <td>7.345525</td>\n",
       "      <td>14.577273</td>\n",
       "      <td>7.170369</td>\n",
       "      <td>6.777273</td>\n",
       "      <td>7.472670</td>\n",
       "    </tr>\n",
       "    <tr>\n",
       "      <td>8</td>\n",
       "      <td>8</td>\n",
       "      <td>8.416252</td>\n",
       "      <td>8.509232</td>\n",
       "      <td>8.551055</td>\n",
       "      <td>16.856321</td>\n",
       "      <td>8.309893</td>\n",
       "      <td>7.856321</td>\n",
       "      <td>8.658702</td>\n",
       "    </tr>\n",
       "    <tr>\n",
       "      <td>9</td>\n",
       "      <td>9</td>\n",
       "      <td>10.694628</td>\n",
       "      <td>9.708626</td>\n",
       "      <td>9.756584</td>\n",
       "      <td>19.135368</td>\n",
       "      <td>9.449417</td>\n",
       "      <td>8.935368</td>\n",
       "      <td>9.844734</td>\n",
       "    </tr>\n",
       "  </tbody>\n",
       "</table>\n",
       "</div>"
      ],
      "text/plain": [
       "   x          y     y'all      y'80        y'2  y'2ridge  y'2lasso  y'2elastic\n",
       "0  0  -1.376059 -1.085924 -1.093182  -1.376059 -0.806297 -0.776059   -0.829551\n",
       "1  1   0.902988  0.113471  0.112347   0.902988  0.333226  0.302988    0.356480\n",
       "2  2   1.104525  1.312865  1.317877   3.182036  1.472750  1.382036    1.542512\n",
       "3  3   2.162218  2.512260  2.523407   5.461083  2.612274  2.461083    2.728544\n",
       "4  4   4.392650  3.711654  3.728936   7.740131  3.751798  3.540131    3.914575\n",
       "5  5   4.865771  4.911048  4.934466  10.019178  4.891322  4.619178    5.100607\n",
       "6  6   5.772748  6.110443  6.139995  12.298226  6.030845  5.698226    6.286639\n",
       "7  7   6.177792  7.309837  7.345525  14.577273  7.170369  6.777273    7.472670\n",
       "8  8   8.416252  8.509232  8.551055  16.856321  8.309893  7.856321    8.658702\n",
       "9  9  10.694628  9.708626  9.756584  19.135368  9.449417  8.935368    9.844734"
      ]
     },
     "execution_count": 60,
     "metadata": {},
     "output_type": "execute_result"
    }
   ],
   "source": [
    "from sklearn.linear_model import ElasticNet\n",
    "\n",
    "modelE = ElasticNet(alpha=0.25)\n",
    "modelE.fit(df[['x']].iloc[:2],df['y'].iloc[:2])\n",
    "df[\"y'2elastic\"] = modelE.predict(df[['x']])\n",
    "df"
   ]
  },
  {
   "cell_type": "code",
   "execution_count": 63,
   "metadata": {},
   "outputs": [
    {
     "data": {
      "text/plain": [
       "<matplotlib.legend.Legend at 0x2b581c05ec8>"
      ]
     },
     "execution_count": 63,
     "metadata": {},
     "output_type": "execute_result"
    },
    {
     "data": {
      "image/png": "[encoded data removed]",
      "text/plain": [
       "<Figure size 720x360 with 1 Axes>"
      ]
     },
     "metadata": {
      "needs_background": "light"
     },
     "output_type": "display_data"
    }
   ],
   "source": [
    "plt.figure(figsize=(10,5))\n",
    "plt.plot(df['x'],df['y'],'ro-')\n",
    "plt.plot(df['x'],df[\"y'2\"],'k-*')\n",
    "plt.plot(df['x'],df[\"y'2ridge\"],'y-')\n",
    "plt.plot(df['x'],df[\"y'2lasso\"],'g-')\n",
    "plt.plot(df['x'],df[\"y'2elastic\"],'m-')\n",
    "plt.legend(['Data','OLS 2',\"y'2ridge\",\"y'2lasso\",\"y'2elastic\"])"
   ]
  },
  {
   "cell_type": "markdown",
   "metadata": {},
   "source": [
    "<hr>\n"
   ]
  },
  {
   "cell_type": "code",
   "execution_count": 69,
   "metadata": {},
   "outputs": [
    {
     "data": {
      "text/plain": [
       "[<matplotlib.lines.Line2D at 0x2b58204b548>]"
      ]
     },
     "execution_count": 69,
     "metadata": {},
     "output_type": "execute_result"
    },
    {
     "data": {
      "image/png": "[encoded data removed]",
      "text/plain": [
       "<Figure size 432x288 with 1 Axes>"
      ]
     },
     "metadata": {
      "needs_background": "light"
     },
     "output_type": "display_data"
    }
   ],
   "source": [
    "x = np.array([i * np.pi/180 for i in range (0,720,10)])\n",
    "y = np.sin(x)\n",
    "df2 = pd.DataFrame({'x':x, 'y':y}) \n",
    "df2\n",
    "# df2.head()\n",
    "plt.plot(df2['x'],df2['y'],'b.')"
   ]
  },
  {
   "cell_type": "code",
   "execution_count": 81,
   "metadata": {},
   "outputs": [
    {
     "data": {
      "text/plain": [
       "[<matplotlib.lines.Line2D at 0x2b58231d908>]"
      ]
     },
     "execution_count": 81,
     "metadata": {},
     "output_type": "execute_result"
    },
    {
     "data": {
      "image/png": "[encoded data removed]",
      "text/plain": [
       "<Figure size 432x288 with 1 Axes>"
      ]
     },
     "metadata": {
      "needs_background": "light"
     },
     "output_type": "display_data"
    }
   ],
   "source": [
    "modelA = LinearRegression()\n",
    "modelB = Ridge()\n",
    "modelC = Lasso()\n",
    "modelD = ElasticNet()\n",
    "\n",
    "modelA.fit(df2[['x']],df2['y'])\n",
    "modelB.fit(df2[['x']],df2['y'])\n",
    "modelC.fit(df2[['x']],df2['y'])\n",
    "modelD.fit(df2[['x']],df2['y'])\n",
    "\n",
    "df2[\"y'A\"] = modelA.predict(df2[['x']])\n",
    "df2[\"y'B\"] = modelB.predict(df2[['x']])\n",
    "df2[\"y'C\"] = modelC.predict(df2[['x']])\n",
    "df2[\"y'D\"] = modelD.predict(df2[['x']])\n",
    "\n",
    "plt.plot(df2['x'],df2['y'],'b-')\n",
    "plt.plot(df2['x'],df2[\"y'A\"],'y-')\n",
    "plt.plot(df2['x'],df2[\"y'B\"],'r-')\n",
    "plt.plot(df2['x'],df2[\"y'C\"],'g-')\n",
    "plt.plot(df2['x'],df2[\"y'D\"],'k-')\n"
   ]
  },
  {
   "cell_type": "code",
   "execution_count": null,
   "metadata": {},
   "outputs": [],
   "source": []
  },
  {
   "cell_type": "code",
   "execution_count": 78,
   "metadata": {},
   "outputs": [
    {
     "data": {
      "text/html": [
       "<div>\n",
       "<style scoped>\n",
       "    .dataframe tbody tr th:only-of-type {\n",
       "        vertical-align: middle;\n",
       "    }\n",
       "\n",
       "    .dataframe tbody tr th {\n",
       "        vertical-align: top;\n",
       "    }\n",
       "\n",
       "    .dataframe thead th {\n",
       "        text-align: right;\n",
       "    }\n",
       "</style>\n",
       "<table border=\"1\" class=\"dataframe\">\n",
       "  <thead>\n",
       "    <tr style=\"text-align: right;\">\n",
       "      <th></th>\n",
       "      <th>x</th>\n",
       "      <th>y</th>\n",
       "      <th>y'2ridge</th>\n",
       "      <th>y'2</th>\n",
       "      <th>y'2lasso</th>\n",
       "      <th>y'2elastic</th>\n",
       "    </tr>\n",
       "  </thead>\n",
       "  <tbody>\n",
       "    <tr>\n",
       "      <td>0</td>\n",
       "      <td>0.000000</td>\n",
       "      <td>0.000000</td>\n",
       "      <td>0.084257</td>\n",
       "      <td>-1.387779e-17</td>\n",
       "      <td>0.086824</td>\n",
       "      <td>0.086824</td>\n",
       "    </tr>\n",
       "    <tr>\n",
       "      <td>1</td>\n",
       "      <td>0.174533</td>\n",
       "      <td>0.173648</td>\n",
       "      <td>0.089391</td>\n",
       "      <td>1.736482e-01</td>\n",
       "      <td>0.086824</td>\n",
       "      <td>0.086824</td>\n",
       "    </tr>\n",
       "    <tr>\n",
       "      <td>2</td>\n",
       "      <td>0.349066</td>\n",
       "      <td>0.342020</td>\n",
       "      <td>0.094524</td>\n",
       "      <td>3.472964e-01</td>\n",
       "      <td>0.086824</td>\n",
       "      <td>0.086824</td>\n",
       "    </tr>\n",
       "    <tr>\n",
       "      <td>3</td>\n",
       "      <td>0.523599</td>\n",
       "      <td>0.500000</td>\n",
       "      <td>0.099657</td>\n",
       "      <td>5.209445e-01</td>\n",
       "      <td>0.086824</td>\n",
       "      <td>0.086824</td>\n",
       "    </tr>\n",
       "    <tr>\n",
       "      <td>4</td>\n",
       "      <td>0.698132</td>\n",
       "      <td>0.642788</td>\n",
       "      <td>0.104790</td>\n",
       "      <td>6.945927e-01</td>\n",
       "      <td>0.086824</td>\n",
       "      <td>0.086824</td>\n",
       "    </tr>\n",
       "    <tr>\n",
       "      <td>...</td>\n",
       "      <td>...</td>\n",
       "      <td>...</td>\n",
       "      <td>...</td>\n",
       "      <td>...</td>\n",
       "      <td>...</td>\n",
       "      <td>...</td>\n",
       "    </tr>\n",
       "    <tr>\n",
       "      <td>67</td>\n",
       "      <td>11.693706</td>\n",
       "      <td>-0.766044</td>\n",
       "      <td>0.428186</td>\n",
       "      <td>1.163443e+01</td>\n",
       "      <td>0.086824</td>\n",
       "      <td>0.086824</td>\n",
       "    </tr>\n",
       "    <tr>\n",
       "      <td>68</td>\n",
       "      <td>11.868239</td>\n",
       "      <td>-0.642788</td>\n",
       "      <td>0.433319</td>\n",
       "      <td>1.180808e+01</td>\n",
       "      <td>0.086824</td>\n",
       "      <td>0.086824</td>\n",
       "    </tr>\n",
       "    <tr>\n",
       "      <td>69</td>\n",
       "      <td>12.042772</td>\n",
       "      <td>-0.500000</td>\n",
       "      <td>0.438452</td>\n",
       "      <td>1.198172e+01</td>\n",
       "      <td>0.086824</td>\n",
       "      <td>0.086824</td>\n",
       "    </tr>\n",
       "    <tr>\n",
       "      <td>70</td>\n",
       "      <td>12.217305</td>\n",
       "      <td>-0.342020</td>\n",
       "      <td>0.443586</td>\n",
       "      <td>1.215537e+01</td>\n",
       "      <td>0.086824</td>\n",
       "      <td>0.086824</td>\n",
       "    </tr>\n",
       "    <tr>\n",
       "      <td>71</td>\n",
       "      <td>12.391838</td>\n",
       "      <td>-0.173648</td>\n",
       "      <td>0.448719</td>\n",
       "      <td>1.232902e+01</td>\n",
       "      <td>0.086824</td>\n",
       "      <td>0.086824</td>\n",
       "    </tr>\n",
       "  </tbody>\n",
       "</table>\n",
       "<p>72 rows × 6 columns</p>\n",
       "</div>"
      ],
      "text/plain": [
       "            x         y  y'2ridge           y'2  y'2lasso  y'2elastic\n",
       "0    0.000000  0.000000  0.084257 -1.387779e-17  0.086824    0.086824\n",
       "1    0.174533  0.173648  0.089391  1.736482e-01  0.086824    0.086824\n",
       "2    0.349066  0.342020  0.094524  3.472964e-01  0.086824    0.086824\n",
       "3    0.523599  0.500000  0.099657  5.209445e-01  0.086824    0.086824\n",
       "4    0.698132  0.642788  0.104790  6.945927e-01  0.086824    0.086824\n",
       "..        ...       ...       ...           ...       ...         ...\n",
       "67  11.693706 -0.766044  0.428186  1.163443e+01  0.086824    0.086824\n",
       "68  11.868239 -0.642788  0.433319  1.180808e+01  0.086824    0.086824\n",
       "69  12.042772 -0.500000  0.438452  1.198172e+01  0.086824    0.086824\n",
       "70  12.217305 -0.342020  0.443586  1.215537e+01  0.086824    0.086824\n",
       "71  12.391838 -0.173648  0.448719  1.232902e+01  0.086824    0.086824\n",
       "\n",
       "[72 rows x 6 columns]"
      ]
     },
     "execution_count": 78,
     "metadata": {},
     "output_type": "execute_result"
    }
   ],
   "source": [
    "modelR1 = Ridge(alpha=0.5)\n",
    "modelR1.fit(df2[['x']].iloc[:2],df2['y'].iloc[:2])\n",
    "df2[\"y'2ridge\"] = modelR1.predict(df2[['x']])\n",
    "\n",
    "model.fit(df2[['x']].iloc[:2],df2['y'].iloc[:2])\n",
    "df2[\"y'2\"] = model.predict(df2[['x']])\n",
    "\n",
    "modelL1 = Lasso(alpha=0.3)\n",
    "modelL1.fit(df2[['x']].iloc[:2],df2['y'].iloc[:2])\n",
    "df2[\"y'2lasso\"] = modelL1.predict(df2[['x']])\n",
    "\n",
    "modelE1 = ElasticNet(alpha=0.25)\n",
    "modelE1.fit(df2[['x']].iloc[:2],df2['y'].iloc[:2])\n",
    "df2[\"y'2elastic\"] = modelE1.predict(df2[['x']])\n",
    "\n",
    "\n",
    "df2"
   ]
  },
  {
   "cell_type": "code",
   "execution_count": 77,
   "metadata": {},
   "outputs": [
    {
     "data": {
      "text/plain": [
       "[<matplotlib.lines.Line2D at 0x2b58221ad08>]"
      ]
     },
     "execution_count": 77,
     "metadata": {},
     "output_type": "execute_result"
    },
    {
     "data": {
      "image/png": "[encoded data removed]",
      "text/plain": [
       "<Figure size 432x288 with 1 Axes>"
      ]
     },
     "metadata": {
      "needs_background": "light"
     },
     "output_type": "display_data"
    }
   ],
   "source": [
    "plt.plot(df2['x'],df2['y'],'ro-')\n",
    "plt.plot(df2['x'],df2['y'],'b-')\n",
    "plt.plot(df2['x'],df2[\"y'2ridge\"],'y-')\n",
    "plt.plot(df2['x'],df2[\"y'2lasso\"],'g-')\n",
    "\n"
   ]
  },
  {
   "cell_type": "markdown",
   "metadata": {},
   "source": [
    "<hr>\n",
    "\n",
    "### Polynomial Regression"
   ]
  },
  {
   "cell_type": "code",
   "execution_count": 88,
   "metadata": {},
   "outputs": [
    {
     "data": {
      "text/html": [
       "<div>\n",
       "<style scoped>\n",
       "    .dataframe tbody tr th:only-of-type {\n",
       "        vertical-align: middle;\n",
       "    }\n",
       "\n",
       "    .dataframe tbody tr th {\n",
       "        vertical-align: top;\n",
       "    }\n",
       "\n",
       "    .dataframe thead th {\n",
       "        text-align: right;\n",
       "    }\n",
       "</style>\n",
       "<table border=\"1\" class=\"dataframe\">\n",
       "  <thead>\n",
       "    <tr style=\"text-align: right;\">\n",
       "      <th></th>\n",
       "      <th>x</th>\n",
       "      <th>y</th>\n",
       "      <th>x2</th>\n",
       "      <th>x3</th>\n",
       "      <th>x4</th>\n",
       "      <th>x5</th>\n",
       "      <th>x6</th>\n",
       "      <th>x7</th>\n",
       "      <th>x8</th>\n",
       "      <th>x9</th>\n",
       "      <th>x10</th>\n",
       "    </tr>\n",
       "  </thead>\n",
       "  <tbody>\n",
       "    <tr>\n",
       "      <td>0</td>\n",
       "      <td>0.000000</td>\n",
       "      <td>0.000000</td>\n",
       "      <td>0.000000</td>\n",
       "      <td>0.000000</td>\n",
       "      <td>0.000000</td>\n",
       "      <td>0.000000</td>\n",
       "      <td>0.000000e+00</td>\n",
       "      <td>0.000000e+00</td>\n",
       "      <td>0.000000e+00</td>\n",
       "      <td>0.000000e+00</td>\n",
       "      <td>0.000000e+00</td>\n",
       "    </tr>\n",
       "    <tr>\n",
       "      <td>1</td>\n",
       "      <td>0.174533</td>\n",
       "      <td>0.173648</td>\n",
       "      <td>0.030462</td>\n",
       "      <td>0.005317</td>\n",
       "      <td>0.000928</td>\n",
       "      <td>0.000162</td>\n",
       "      <td>2.826599e-05</td>\n",
       "      <td>4.933346e-06</td>\n",
       "      <td>8.610313e-07</td>\n",
       "      <td>1.502783e-07</td>\n",
       "      <td>2.622851e-08</td>\n",
       "    </tr>\n",
       "    <tr>\n",
       "      <td>2</td>\n",
       "      <td>0.349066</td>\n",
       "      <td>0.342020</td>\n",
       "      <td>0.121847</td>\n",
       "      <td>0.042533</td>\n",
       "      <td>0.014847</td>\n",
       "      <td>0.005182</td>\n",
       "      <td>1.809023e-03</td>\n",
       "      <td>6.314683e-04</td>\n",
       "      <td>2.204240e-04</td>\n",
       "      <td>7.694250e-05</td>\n",
       "      <td>2.685800e-05</td>\n",
       "    </tr>\n",
       "    <tr>\n",
       "      <td>3</td>\n",
       "      <td>0.523599</td>\n",
       "      <td>0.500000</td>\n",
       "      <td>0.274156</td>\n",
       "      <td>0.143548</td>\n",
       "      <td>0.075161</td>\n",
       "      <td>0.039354</td>\n",
       "      <td>2.060591e-02</td>\n",
       "      <td>1.078923e-02</td>\n",
       "      <td>5.649226e-03</td>\n",
       "      <td>2.957928e-03</td>\n",
       "      <td>1.548767e-03</td>\n",
       "    </tr>\n",
       "    <tr>\n",
       "      <td>4</td>\n",
       "      <td>0.698132</td>\n",
       "      <td>0.642788</td>\n",
       "      <td>0.487388</td>\n",
       "      <td>0.340261</td>\n",
       "      <td>0.237547</td>\n",
       "      <td>0.165839</td>\n",
       "      <td>1.157775e-01</td>\n",
       "      <td>8.082794e-02</td>\n",
       "      <td>5.642855e-02</td>\n",
       "      <td>3.939456e-02</td>\n",
       "      <td>2.750259e-02</td>\n",
       "    </tr>\n",
       "    <tr>\n",
       "      <td>...</td>\n",
       "      <td>...</td>\n",
       "      <td>...</td>\n",
       "      <td>...</td>\n",
       "      <td>...</td>\n",
       "      <td>...</td>\n",
       "      <td>...</td>\n",
       "      <td>...</td>\n",
       "      <td>...</td>\n",
       "      <td>...</td>\n",
       "      <td>...</td>\n",
       "      <td>...</td>\n",
       "    </tr>\n",
       "    <tr>\n",
       "      <td>67</td>\n",
       "      <td>11.693706</td>\n",
       "      <td>-0.766044</td>\n",
       "      <td>136.742760</td>\n",
       "      <td>1599.029628</td>\n",
       "      <td>18698.582342</td>\n",
       "      <td>218655.724306</td>\n",
       "      <td>2.556896e+06</td>\n",
       "      <td>2.989959e+07</td>\n",
       "      <td>3.496370e+08</td>\n",
       "      <td>4.088552e+09</td>\n",
       "      <td>4.781033e+10</td>\n",
       "    </tr>\n",
       "    <tr>\n",
       "      <td>68</td>\n",
       "      <td>11.868239</td>\n",
       "      <td>-0.642788</td>\n",
       "      <td>140.855095</td>\n",
       "      <td>1671.701919</td>\n",
       "      <td>19840.157762</td>\n",
       "      <td>235467.732401</td>\n",
       "      <td>2.794587e+06</td>\n",
       "      <td>3.316683e+07</td>\n",
       "      <td>3.936319e+08</td>\n",
       "      <td>4.671717e+09</td>\n",
       "      <td>5.544505e+10</td>\n",
       "    </tr>\n",
       "    <tr>\n",
       "      <td>69</td>\n",
       "      <td>12.042772</td>\n",
       "      <td>-0.500000</td>\n",
       "      <td>145.028354</td>\n",
       "      <td>1746.543372</td>\n",
       "      <td>21033.223336</td>\n",
       "      <td>253298.309675</td>\n",
       "      <td>3.050414e+06</td>\n",
       "      <td>3.673544e+07</td>\n",
       "      <td>4.423965e+08</td>\n",
       "      <td>5.327680e+09</td>\n",
       "      <td>6.416003e+10</td>\n",
       "    </tr>\n",
       "    <tr>\n",
       "      <td>70</td>\n",
       "      <td>12.217305</td>\n",
       "      <td>-0.342020</td>\n",
       "      <td>149.262536</td>\n",
       "      <td>1823.585888</td>\n",
       "      <td>22279.304562</td>\n",
       "      <td>272193.053766</td>\n",
       "      <td>3.325465e+06</td>\n",
       "      <td>4.062823e+07</td>\n",
       "      <td>4.963674e+08</td>\n",
       "      <td>6.064272e+09</td>\n",
       "      <td>7.408906e+10</td>\n",
       "    </tr>\n",
       "    <tr>\n",
       "      <td>71</td>\n",
       "      <td>12.391838</td>\n",
       "      <td>-0.173648</td>\n",
       "      <td>153.557641</td>\n",
       "      <td>1902.861367</td>\n",
       "      <td>23579.949206</td>\n",
       "      <td>292198.903280</td>\n",
       "      <td>3.620881e+06</td>\n",
       "      <td>4.486937e+07</td>\n",
       "      <td>5.560140e+08</td>\n",
       "      <td>6.890035e+09</td>\n",
       "      <td>8.538020e+10</td>\n",
       "    </tr>\n",
       "  </tbody>\n",
       "</table>\n",
       "<p>72 rows × 11 columns</p>\n",
       "</div>"
      ],
      "text/plain": [
       "            x         y          x2           x3            x4             x5  \\\n",
       "0    0.000000  0.000000    0.000000     0.000000      0.000000       0.000000   \n",
       "1    0.174533  0.173648    0.030462     0.005317      0.000928       0.000162   \n",
       "2    0.349066  0.342020    0.121847     0.042533      0.014847       0.005182   \n",
       "3    0.523599  0.500000    0.274156     0.143548      0.075161       0.039354   \n",
       "4    0.698132  0.642788    0.487388     0.340261      0.237547       0.165839   \n",
       "..        ...       ...         ...          ...           ...            ...   \n",
       "67  11.693706 -0.766044  136.742760  1599.029628  18698.582342  218655.724306   \n",
       "68  11.868239 -0.642788  140.855095  1671.701919  19840.157762  235467.732401   \n",
       "69  12.042772 -0.500000  145.028354  1746.543372  21033.223336  253298.309675   \n",
       "70  12.217305 -0.342020  149.262536  1823.585888  22279.304562  272193.053766   \n",
       "71  12.391838 -0.173648  153.557641  1902.861367  23579.949206  292198.903280   \n",
       "\n",
       "              x6            x7            x8            x9           x10  \n",
       "0   0.000000e+00  0.000000e+00  0.000000e+00  0.000000e+00  0.000000e+00  \n",
       "1   2.826599e-05  4.933346e-06  8.610313e-07  1.502783e-07  2.622851e-08  \n",
       "2   1.809023e-03  6.314683e-04  2.204240e-04  7.694250e-05  2.685800e-05  \n",
       "3   2.060591e-02  1.078923e-02  5.649226e-03  2.957928e-03  1.548767e-03  \n",
       "4   1.157775e-01  8.082794e-02  5.642855e-02  3.939456e-02  2.750259e-02  \n",
       "..           ...           ...           ...           ...           ...  \n",
       "67  2.556896e+06  2.989959e+07  3.496370e+08  4.088552e+09  4.781033e+10  \n",
       "68  2.794587e+06  3.316683e+07  3.936319e+08  4.671717e+09  5.544505e+10  \n",
       "69  3.050414e+06  3.673544e+07  4.423965e+08  5.327680e+09  6.416003e+10  \n",
       "70  3.325465e+06  4.062823e+07  4.963674e+08  6.064272e+09  7.408906e+10  \n",
       "71  3.620881e+06  4.486937e+07  5.560140e+08  6.890035e+09  8.538020e+10  \n",
       "\n",
       "[72 rows x 11 columns]"
      ]
     },
     "execution_count": 88,
     "metadata": {},
     "output_type": "execute_result"
    }
   ],
   "source": [
    "x = np.array([i * np.pi/180 for i in range (0,720,10)])\n",
    "y = np.sin(x)\n",
    "df3 = pd.DataFrame({'x':x, 'y':y}) \n",
    "for i in range(2,11):\n",
    "    df3[f'x{i}'] = df3['x'] ** i\n",
    "df3"
   ]
  },
  {
   "cell_type": "code",
   "execution_count": 91,
   "metadata": {},
   "outputs": [
    {
     "data": {
      "text/html": [
       "<div>\n",
       "<style scoped>\n",
       "    .dataframe tbody tr th:only-of-type {\n",
       "        vertical-align: middle;\n",
       "    }\n",
       "\n",
       "    .dataframe tbody tr th {\n",
       "        vertical-align: top;\n",
       "    }\n",
       "\n",
       "    .dataframe thead th {\n",
       "        text-align: right;\n",
       "    }\n",
       "</style>\n",
       "<table border=\"1\" class=\"dataframe\">\n",
       "  <thead>\n",
       "    <tr style=\"text-align: right;\">\n",
       "      <th></th>\n",
       "      <th>x</th>\n",
       "      <th>y</th>\n",
       "      <th>x2</th>\n",
       "      <th>x3</th>\n",
       "      <th>x4</th>\n",
       "      <th>x5</th>\n",
       "      <th>x6</th>\n",
       "      <th>x7</th>\n",
       "      <th>x8</th>\n",
       "      <th>x9</th>\n",
       "      <th>x10</th>\n",
       "      <th>y'</th>\n",
       "    </tr>\n",
       "  </thead>\n",
       "  <tbody>\n",
       "    <tr>\n",
       "      <td>0</td>\n",
       "      <td>0.000000</td>\n",
       "      <td>0.000000</td>\n",
       "      <td>0.000000</td>\n",
       "      <td>0.000000</td>\n",
       "      <td>0.000000</td>\n",
       "      <td>0.000000</td>\n",
       "      <td>0.000000e+00</td>\n",
       "      <td>0.000000e+00</td>\n",
       "      <td>0.000000e+00</td>\n",
       "      <td>0.000000e+00</td>\n",
       "      <td>0.000000e+00</td>\n",
       "      <td>-0.006864</td>\n",
       "    </tr>\n",
       "    <tr>\n",
       "      <td>1</td>\n",
       "      <td>0.174533</td>\n",
       "      <td>0.173648</td>\n",
       "      <td>0.030462</td>\n",
       "      <td>0.005317</td>\n",
       "      <td>0.000928</td>\n",
       "      <td>0.000162</td>\n",
       "      <td>2.826599e-05</td>\n",
       "      <td>4.933346e-06</td>\n",
       "      <td>8.610313e-07</td>\n",
       "      <td>1.502783e-07</td>\n",
       "      <td>2.622851e-08</td>\n",
       "      <td>0.179246</td>\n",
       "    </tr>\n",
       "    <tr>\n",
       "      <td>2</td>\n",
       "      <td>0.349066</td>\n",
       "      <td>0.342020</td>\n",
       "      <td>0.121847</td>\n",
       "      <td>0.042533</td>\n",
       "      <td>0.014847</td>\n",
       "      <td>0.005182</td>\n",
       "      <td>1.809023e-03</td>\n",
       "      <td>6.314683e-04</td>\n",
       "      <td>2.204240e-04</td>\n",
       "      <td>7.694250e-05</td>\n",
       "      <td>2.685800e-05</td>\n",
       "      <td>0.348880</td>\n",
       "    </tr>\n",
       "    <tr>\n",
       "      <td>3</td>\n",
       "      <td>0.523599</td>\n",
       "      <td>0.500000</td>\n",
       "      <td>0.274156</td>\n",
       "      <td>0.143548</td>\n",
       "      <td>0.075161</td>\n",
       "      <td>0.039354</td>\n",
       "      <td>2.060591e-02</td>\n",
       "      <td>1.078923e-02</td>\n",
       "      <td>5.649226e-03</td>\n",
       "      <td>2.957928e-03</td>\n",
       "      <td>1.548767e-03</td>\n",
       "      <td>0.503434</td>\n",
       "    </tr>\n",
       "    <tr>\n",
       "      <td>4</td>\n",
       "      <td>0.698132</td>\n",
       "      <td>0.642788</td>\n",
       "      <td>0.487388</td>\n",
       "      <td>0.340261</td>\n",
       "      <td>0.237547</td>\n",
       "      <td>0.165839</td>\n",
       "      <td>1.157775e-01</td>\n",
       "      <td>8.082794e-02</td>\n",
       "      <td>5.642855e-02</td>\n",
       "      <td>3.939456e-02</td>\n",
       "      <td>2.750259e-02</td>\n",
       "      <td>0.641931</td>\n",
       "    </tr>\n",
       "    <tr>\n",
       "      <td>...</td>\n",
       "      <td>...</td>\n",
       "      <td>...</td>\n",
       "      <td>...</td>\n",
       "      <td>...</td>\n",
       "      <td>...</td>\n",
       "      <td>...</td>\n",
       "      <td>...</td>\n",
       "      <td>...</td>\n",
       "      <td>...</td>\n",
       "      <td>...</td>\n",
       "      <td>...</td>\n",
       "      <td>...</td>\n",
       "    </tr>\n",
       "    <tr>\n",
       "      <td>67</td>\n",
       "      <td>11.693706</td>\n",
       "      <td>-0.766044</td>\n",
       "      <td>136.742760</td>\n",
       "      <td>1599.029628</td>\n",
       "      <td>18698.582342</td>\n",
       "      <td>218655.724306</td>\n",
       "      <td>2.556896e+06</td>\n",
       "      <td>2.989959e+07</td>\n",
       "      <td>3.496370e+08</td>\n",
       "      <td>4.088552e+09</td>\n",
       "      <td>4.781033e+10</td>\n",
       "      <td>-0.765006</td>\n",
       "    </tr>\n",
       "    <tr>\n",
       "      <td>68</td>\n",
       "      <td>11.868239</td>\n",
       "      <td>-0.642788</td>\n",
       "      <td>140.855095</td>\n",
       "      <td>1671.701919</td>\n",
       "      <td>19840.157762</td>\n",
       "      <td>235467.732401</td>\n",
       "      <td>2.794587e+06</td>\n",
       "      <td>3.316683e+07</td>\n",
       "      <td>3.936319e+08</td>\n",
       "      <td>4.671717e+09</td>\n",
       "      <td>5.544505e+10</td>\n",
       "      <td>-0.646263</td>\n",
       "    </tr>\n",
       "    <tr>\n",
       "      <td>69</td>\n",
       "      <td>12.042772</td>\n",
       "      <td>-0.500000</td>\n",
       "      <td>145.028354</td>\n",
       "      <td>1746.543372</td>\n",
       "      <td>21033.223336</td>\n",
       "      <td>253298.309675</td>\n",
       "      <td>3.050414e+06</td>\n",
       "      <td>3.673544e+07</td>\n",
       "      <td>4.423965e+08</td>\n",
       "      <td>5.327680e+09</td>\n",
       "      <td>6.416003e+10</td>\n",
       "      <td>-0.507160</td>\n",
       "    </tr>\n",
       "    <tr>\n",
       "      <td>70</td>\n",
       "      <td>12.217305</td>\n",
       "      <td>-0.342020</td>\n",
       "      <td>149.262536</td>\n",
       "      <td>1823.585888</td>\n",
       "      <td>22279.304562</td>\n",
       "      <td>272193.053766</td>\n",
       "      <td>3.325465e+06</td>\n",
       "      <td>4.062823e+07</td>\n",
       "      <td>4.963674e+08</td>\n",
       "      <td>6.064272e+09</td>\n",
       "      <td>7.408906e+10</td>\n",
       "      <td>-0.347969</td>\n",
       "    </tr>\n",
       "    <tr>\n",
       "      <td>71</td>\n",
       "      <td>12.391838</td>\n",
       "      <td>-0.173648</td>\n",
       "      <td>153.557641</td>\n",
       "      <td>1902.861367</td>\n",
       "      <td>23579.949206</td>\n",
       "      <td>292198.903280</td>\n",
       "      <td>3.620881e+06</td>\n",
       "      <td>4.486937e+07</td>\n",
       "      <td>5.560140e+08</td>\n",
       "      <td>6.890035e+09</td>\n",
       "      <td>8.538020e+10</td>\n",
       "      <td>-0.166484</td>\n",
       "    </tr>\n",
       "  </tbody>\n",
       "</table>\n",
       "<p>72 rows × 12 columns</p>\n",
       "</div>"
      ],
      "text/plain": [
       "            x         y          x2           x3            x4             x5  \\\n",
       "0    0.000000  0.000000    0.000000     0.000000      0.000000       0.000000   \n",
       "1    0.174533  0.173648    0.030462     0.005317      0.000928       0.000162   \n",
       "2    0.349066  0.342020    0.121847     0.042533      0.014847       0.005182   \n",
       "3    0.523599  0.500000    0.274156     0.143548      0.075161       0.039354   \n",
       "4    0.698132  0.642788    0.487388     0.340261      0.237547       0.165839   \n",
       "..        ...       ...         ...          ...           ...            ...   \n",
       "67  11.693706 -0.766044  136.742760  1599.029628  18698.582342  218655.724306   \n",
       "68  11.868239 -0.642788  140.855095  1671.701919  19840.157762  235467.732401   \n",
       "69  12.042772 -0.500000  145.028354  1746.543372  21033.223336  253298.309675   \n",
       "70  12.217305 -0.342020  149.262536  1823.585888  22279.304562  272193.053766   \n",
       "71  12.391838 -0.173648  153.557641  1902.861367  23579.949206  292198.903280   \n",
       "\n",
       "              x6            x7            x8            x9           x10  \\\n",
       "0   0.000000e+00  0.000000e+00  0.000000e+00  0.000000e+00  0.000000e+00   \n",
       "1   2.826599e-05  4.933346e-06  8.610313e-07  1.502783e-07  2.622851e-08   \n",
       "2   1.809023e-03  6.314683e-04  2.204240e-04  7.694250e-05  2.685800e-05   \n",
       "3   2.060591e-02  1.078923e-02  5.649226e-03  2.957928e-03  1.548767e-03   \n",
       "4   1.157775e-01  8.082794e-02  5.642855e-02  3.939456e-02  2.750259e-02   \n",
       "..           ...           ...           ...           ...           ...   \n",
       "67  2.556896e+06  2.989959e+07  3.496370e+08  4.088552e+09  4.781033e+10   \n",
       "68  2.794587e+06  3.316683e+07  3.936319e+08  4.671717e+09  5.544505e+10   \n",
       "69  3.050414e+06  3.673544e+07  4.423965e+08  5.327680e+09  6.416003e+10   \n",
       "70  3.325465e+06  4.062823e+07  4.963674e+08  6.064272e+09  7.408906e+10   \n",
       "71  3.620881e+06  4.486937e+07  5.560140e+08  6.890035e+09  8.538020e+10   \n",
       "\n",
       "          y'  \n",
       "0  -0.006864  \n",
       "1   0.179246  \n",
       "2   0.348880  \n",
       "3   0.503434  \n",
       "4   0.641931  \n",
       "..       ...  \n",
       "67 -0.765006  \n",
       "68 -0.646263  \n",
       "69 -0.507160  \n",
       "70 -0.347969  \n",
       "71 -0.166484  \n",
       "\n",
       "[72 rows x 12 columns]"
      ]
     },
     "execution_count": 91,
     "metadata": {},
     "output_type": "execute_result"
    }
   ],
   "source": [
    "model = LinearRegression()\n",
    "xn = ['x']\n",
    "xn.extend(['x%d' %i for i in range(2,11)])\n",
    "model.fit(df3[xn],df3['y'])\n",
    "df3[\"y'\"] = model.predict(df3[xn])\n",
    "df3"
   ]
  },
  {
   "cell_type": "code",
   "execution_count": 92,
   "metadata": {},
   "outputs": [
    {
     "data": {
      "text/plain": [
       "[<matplotlib.lines.Line2D at 0x2b58358e548>]"
      ]
     },
     "execution_count": 92,
     "metadata": {},
     "output_type": "execute_result"
    },
    {
     "data": {
      "image/png": "[encoded data removed]",
      "text/plain": [
       "<Figure size 432x288 with 1 Axes>"
      ]
     },
     "metadata": {
      "needs_background": "light"
     },
     "output_type": "display_data"
    }
   ],
   "source": [
    "plt.plot(df3['x'],df3['y'],'b.')\n",
    "plt.plot(df3['x'],df3[\"y'\"],'g-')"
   ]
  },
  {
   "cell_type": "code",
   "execution_count": null,
   "metadata": {},
   "outputs": [],
   "source": []
  }
 ],
 "metadata": {
  "kernelspec": {
   "display_name": "Python 3",
   "language": "python",
   "name": "python3"
  },
  "language_info": {
   "codemirror_mode": {
    "name": "ipython",
    "version": 3
   },
   "file_extension": ".py",
   "mimetype": "text/x-python",
   "name": "python",
   "nbconvert_exporter": "python",
   "pygments_lexer": "ipython3",
   "version": "3.7.6"
  }
 },
 "nbformat": 4,
 "nbformat_minor": 4
}
