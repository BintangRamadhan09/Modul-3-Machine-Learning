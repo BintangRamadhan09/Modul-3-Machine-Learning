{
 "cells": [
  {
   "cell_type": "markdown",
   "metadata": {},
   "source": [
    "## Linear Regression"
   ]
  },
  {
   "cell_type": "code",
   "execution_count": 1,
   "metadata": {},
   "outputs": [],
   "source": [
    "import pandas as pd\n",
    "import numpy as  np\n",
    "import matplotlib.pyplot as plt\n",
    "import seaborn as sb\n",
    "from sklearn import linear_model\n",
    "from sklearn.metrics import max_error\n",
    "from sklearn.metrics import mean_absolute_error, mean_squared_error, median_absolute_error, mean_squared_log_error, r2_score"
   ]
  },
  {
   "cell_type": "code",
   "execution_count": 2,
   "metadata": {},
   "outputs": [
    {
     "data": {
      "text/html": [
       "<div>\n",
       "<style scoped>\n",
       "    .dataframe tbody tr th:only-of-type {\n",
       "        vertical-align: middle;\n",
       "    }\n",
       "\n",
       "    .dataframe tbody tr th {\n",
       "        vertical-align: top;\n",
       "    }\n",
       "\n",
       "    .dataframe thead th {\n",
       "        text-align: right;\n",
       "    }\n",
       "</style>\n",
       "<table border=\"1\" class=\"dataframe\">\n",
       "  <thead>\n",
       "    <tr style=\"text-align: right;\">\n",
       "      <th></th>\n",
       "      <th>mesin x</th>\n",
       "      <th>harga y</th>\n",
       "    </tr>\n",
       "  </thead>\n",
       "  <tbody>\n",
       "    <tr>\n",
       "      <td>0</td>\n",
       "      <td>1000</td>\n",
       "      <td>10</td>\n",
       "    </tr>\n",
       "    <tr>\n",
       "      <td>1</td>\n",
       "      <td>2000</td>\n",
       "      <td>25</td>\n",
       "    </tr>\n",
       "    <tr>\n",
       "      <td>2</td>\n",
       "      <td>3000</td>\n",
       "      <td>35</td>\n",
       "    </tr>\n",
       "    <tr>\n",
       "      <td>3</td>\n",
       "      <td>4000</td>\n",
       "      <td>55</td>\n",
       "    </tr>\n",
       "    <tr>\n",
       "      <td>4</td>\n",
       "      <td>5000</td>\n",
       "      <td>80</td>\n",
       "    </tr>\n",
       "  </tbody>\n",
       "</table>\n",
       "</div>"
      ],
      "text/plain": [
       "   mesin x  harga y\n",
       "0     1000       10\n",
       "1     2000       25\n",
       "2     3000       35\n",
       "3     4000       55\n",
       "4     5000       80"
      ]
     },
     "execution_count": 2,
     "metadata": {},
     "output_type": "execute_result"
    }
   ],
   "source": [
    "data = {\n",
    "    'mesin x' : [1000, 2000, 3000, 4000, 5000],\n",
    "    'harga y' : [10, 25, 35, 55, 80]\n",
    "}\n",
    "df = pd.DataFrame(data)\n",
    "df"
   ]
  },
  {
   "cell_type": "code",
   "execution_count": 3,
   "metadata": {},
   "outputs": [
    {
     "data": {
      "text/html": [
       "<div>\n",
       "<style scoped>\n",
       "    .dataframe tbody tr th:only-of-type {\n",
       "        vertical-align: middle;\n",
       "    }\n",
       "\n",
       "    .dataframe tbody tr th {\n",
       "        vertical-align: top;\n",
       "    }\n",
       "\n",
       "    .dataframe thead th {\n",
       "        text-align: right;\n",
       "    }\n",
       "</style>\n",
       "<table border=\"1\" class=\"dataframe\">\n",
       "  <thead>\n",
       "    <tr style=\"text-align: right;\">\n",
       "      <th></th>\n",
       "      <th>mesin x</th>\n",
       "      <th>harga y</th>\n",
       "      <th>hargaPrediksi</th>\n",
       "    </tr>\n",
       "  </thead>\n",
       "  <tbody>\n",
       "    <tr>\n",
       "      <td>0</td>\n",
       "      <td>1000</td>\n",
       "      <td>10</td>\n",
       "      <td>7.0</td>\n",
       "    </tr>\n",
       "    <tr>\n",
       "      <td>1</td>\n",
       "      <td>2000</td>\n",
       "      <td>25</td>\n",
       "      <td>24.0</td>\n",
       "    </tr>\n",
       "    <tr>\n",
       "      <td>2</td>\n",
       "      <td>3000</td>\n",
       "      <td>35</td>\n",
       "      <td>41.0</td>\n",
       "    </tr>\n",
       "    <tr>\n",
       "      <td>3</td>\n",
       "      <td>4000</td>\n",
       "      <td>55</td>\n",
       "      <td>58.0</td>\n",
       "    </tr>\n",
       "    <tr>\n",
       "      <td>4</td>\n",
       "      <td>5000</td>\n",
       "      <td>80</td>\n",
       "      <td>75.0</td>\n",
       "    </tr>\n",
       "  </tbody>\n",
       "</table>\n",
       "</div>"
      ],
      "text/plain": [
       "   mesin x  harga y  hargaPrediksi\n",
       "0     1000       10            7.0\n",
       "1     2000       25           24.0\n",
       "2     3000       35           41.0\n",
       "3     4000       55           58.0\n",
       "4     5000       80           75.0"
      ]
     },
     "execution_count": 3,
     "metadata": {},
     "output_type": "execute_result"
    }
   ],
   "source": [
    "model = linear_model.LinearRegression()\n",
    "model.fit(df[['mesin x']],df['harga y'])\n",
    "# plt.plot(df['mesin'],df['harga'],'ro-')\n",
    "df['hargaPrediksi'] = model.predict(df[['mesin x']])\n",
    "df"
   ]
  },
  {
   "cell_type": "code",
   "execution_count": 4,
   "metadata": {},
   "outputs": [
    {
     "data": {
      "text/html": [
       "<div>\n",
       "<style scoped>\n",
       "    .dataframe tbody tr th:only-of-type {\n",
       "        vertical-align: middle;\n",
       "    }\n",
       "\n",
       "    .dataframe tbody tr th {\n",
       "        vertical-align: top;\n",
       "    }\n",
       "\n",
       "    .dataframe thead th {\n",
       "        text-align: right;\n",
       "    }\n",
       "</style>\n",
       "<table border=\"1\" class=\"dataframe\">\n",
       "  <thead>\n",
       "    <tr style=\"text-align: right;\">\n",
       "      <th></th>\n",
       "      <th>mesin x</th>\n",
       "      <th>harga y</th>\n",
       "      <th>hargaPrediksi</th>\n",
       "      <th>x^2</th>\n",
       "      <th>y^2</th>\n",
       "      <th>xy</th>\n",
       "    </tr>\n",
       "  </thead>\n",
       "  <tbody>\n",
       "    <tr>\n",
       "      <td>0</td>\n",
       "      <td>1000</td>\n",
       "      <td>10</td>\n",
       "      <td>7.0</td>\n",
       "      <td>1000000</td>\n",
       "      <td>100</td>\n",
       "      <td>10000</td>\n",
       "    </tr>\n",
       "    <tr>\n",
       "      <td>1</td>\n",
       "      <td>2000</td>\n",
       "      <td>25</td>\n",
       "      <td>24.0</td>\n",
       "      <td>4000000</td>\n",
       "      <td>625</td>\n",
       "      <td>50000</td>\n",
       "    </tr>\n",
       "    <tr>\n",
       "      <td>2</td>\n",
       "      <td>3000</td>\n",
       "      <td>35</td>\n",
       "      <td>41.0</td>\n",
       "      <td>9000000</td>\n",
       "      <td>1225</td>\n",
       "      <td>105000</td>\n",
       "    </tr>\n",
       "    <tr>\n",
       "      <td>3</td>\n",
       "      <td>4000</td>\n",
       "      <td>55</td>\n",
       "      <td>58.0</td>\n",
       "      <td>16000000</td>\n",
       "      <td>3025</td>\n",
       "      <td>220000</td>\n",
       "    </tr>\n",
       "    <tr>\n",
       "      <td>4</td>\n",
       "      <td>5000</td>\n",
       "      <td>80</td>\n",
       "      <td>75.0</td>\n",
       "      <td>25000000</td>\n",
       "      <td>6400</td>\n",
       "      <td>400000</td>\n",
       "    </tr>\n",
       "  </tbody>\n",
       "</table>\n",
       "</div>"
      ],
      "text/plain": [
       "   mesin x  harga y  hargaPrediksi       x^2   y^2      xy\n",
       "0     1000       10            7.0   1000000   100   10000\n",
       "1     2000       25           24.0   4000000   625   50000\n",
       "2     3000       35           41.0   9000000  1225  105000\n",
       "3     4000       55           58.0  16000000  3025  220000\n",
       "4     5000       80           75.0  25000000  6400  400000"
      ]
     },
     "execution_count": 4,
     "metadata": {},
     "output_type": "execute_result"
    }
   ],
   "source": [
    "df['x^2'] = df['mesin x'] ** 2\n",
    "df['y^2'] = df['harga y'] ** 2\n",
    "df['xy']  = df['mesin x'] * df['harga y']\n",
    "df"
   ]
  },
  {
   "cell_type": "markdown",
   "metadata": {},
   "source": [
    "Gradient/slope:    $\\displaystyle m = \\frac {n(\\sum xy) - (\\sum x)(\\sum y)} {n(\\sum x^2) - (\\sum x)^2}$"
   ]
  },
  {
   "cell_type": "code",
   "execution_count": 5,
   "metadata": {},
   "outputs": [
    {
     "data": {
      "text/plain": [
       "0.017"
      ]
     },
     "execution_count": 5,
     "metadata": {},
     "output_type": "execute_result"
    }
   ],
   "source": [
    "m = ((df['xy'].count() * df['xy'].sum()) - (df['mesin x'].sum() * df['harga y'].sum())) / ((df['xy'].count() * df['x^2'].sum()) - (df['mesin x'].sum() ** 2))\n",
    "m"
   ]
  },
  {
   "cell_type": "markdown",
   "metadata": {},
   "source": [
    "intercept $\\displaystyle c = \\frac {(\\sum y)(\\sum x ^2) - (\\sum x)(\\sum xy)}{n(\\sum x^2) - (\\sum x)^2}$"
   ]
  },
  {
   "cell_type": "code",
   "execution_count": 6,
   "metadata": {},
   "outputs": [
    {
     "data": {
      "text/plain": [
       "-10.0"
      ]
     },
     "execution_count": 6,
     "metadata": {},
     "output_type": "execute_result"
    }
   ],
   "source": [
    "c = ((df['harga y'].sum() * df['x^2'].sum())-(df['mesin x'].sum() * df['xy'].sum())) / ((df['mesin x'].count() * df['x^2'].sum()) - (df['mesin x'].sum() ** 2))\n",
    "c"
   ]
  },
  {
   "cell_type": "markdown",
   "metadata": {},
   "source": [
    "Prediction  $\\displaystyle \\hat{y} = mx + c$"
   ]
  },
  {
   "cell_type": "code",
   "execution_count": 7,
   "metadata": {},
   "outputs": [
    {
     "data": {
      "text/html": [
       "<div>\n",
       "<style scoped>\n",
       "    .dataframe tbody tr th:only-of-type {\n",
       "        vertical-align: middle;\n",
       "    }\n",
       "\n",
       "    .dataframe tbody tr th {\n",
       "        vertical-align: top;\n",
       "    }\n",
       "\n",
       "    .dataframe thead th {\n",
       "        text-align: right;\n",
       "    }\n",
       "</style>\n",
       "<table border=\"1\" class=\"dataframe\">\n",
       "  <thead>\n",
       "    <tr style=\"text-align: right;\">\n",
       "      <th></th>\n",
       "      <th>mesin x</th>\n",
       "      <th>harga y</th>\n",
       "      <th>hargaPrediksi</th>\n",
       "      <th>x^2</th>\n",
       "      <th>y^2</th>\n",
       "      <th>xy</th>\n",
       "      <th>y'</th>\n",
       "    </tr>\n",
       "  </thead>\n",
       "  <tbody>\n",
       "    <tr>\n",
       "      <td>0</td>\n",
       "      <td>1000</td>\n",
       "      <td>10</td>\n",
       "      <td>7.0</td>\n",
       "      <td>1000000</td>\n",
       "      <td>100</td>\n",
       "      <td>10000</td>\n",
       "      <td>7.0</td>\n",
       "    </tr>\n",
       "    <tr>\n",
       "      <td>1</td>\n",
       "      <td>2000</td>\n",
       "      <td>25</td>\n",
       "      <td>24.0</td>\n",
       "      <td>4000000</td>\n",
       "      <td>625</td>\n",
       "      <td>50000</td>\n",
       "      <td>24.0</td>\n",
       "    </tr>\n",
       "    <tr>\n",
       "      <td>2</td>\n",
       "      <td>3000</td>\n",
       "      <td>35</td>\n",
       "      <td>41.0</td>\n",
       "      <td>9000000</td>\n",
       "      <td>1225</td>\n",
       "      <td>105000</td>\n",
       "      <td>41.0</td>\n",
       "    </tr>\n",
       "    <tr>\n",
       "      <td>3</td>\n",
       "      <td>4000</td>\n",
       "      <td>55</td>\n",
       "      <td>58.0</td>\n",
       "      <td>16000000</td>\n",
       "      <td>3025</td>\n",
       "      <td>220000</td>\n",
       "      <td>58.0</td>\n",
       "    </tr>\n",
       "    <tr>\n",
       "      <td>4</td>\n",
       "      <td>5000</td>\n",
       "      <td>80</td>\n",
       "      <td>75.0</td>\n",
       "      <td>25000000</td>\n",
       "      <td>6400</td>\n",
       "      <td>400000</td>\n",
       "      <td>75.0</td>\n",
       "    </tr>\n",
       "  </tbody>\n",
       "</table>\n",
       "</div>"
      ],
      "text/plain": [
       "   mesin x  harga y  hargaPrediksi       x^2   y^2      xy    y'\n",
       "0     1000       10            7.0   1000000   100   10000   7.0\n",
       "1     2000       25           24.0   4000000   625   50000  24.0\n",
       "2     3000       35           41.0   9000000  1225  105000  41.0\n",
       "3     4000       55           58.0  16000000  3025  220000  58.0\n",
       "4     5000       80           75.0  25000000  6400  400000  75.0"
      ]
     },
     "execution_count": 7,
     "metadata": {},
     "output_type": "execute_result"
    }
   ],
   "source": [
    "yhat = m * df['mesin x'] + c\n",
    "df [\"y'\"] = yhat\n",
    "df"
   ]
  },
  {
   "cell_type": "markdown",
   "metadata": {},
   "source": [
    "### Multivariate Linear regression\n",
    "\n",
    "- Simple linear regression multiple variable\n",
    "\n",
    "$$\\hat{y} = m_0 x_0 + m_1 x_1 + m_2 x_2 +...+c$$"
   ]
  },
  {
   "cell_type": "code",
   "execution_count": 8,
   "metadata": {},
   "outputs": [
    {
     "data": {
      "text/html": [
       "<div>\n",
       "<style scoped>\n",
       "    .dataframe tbody tr th:only-of-type {\n",
       "        vertical-align: middle;\n",
       "    }\n",
       "\n",
       "    .dataframe tbody tr th {\n",
       "        vertical-align: top;\n",
       "    }\n",
       "\n",
       "    .dataframe thead th {\n",
       "        text-align: right;\n",
       "    }\n",
       "</style>\n",
       "<table border=\"1\" class=\"dataframe\">\n",
       "  <thead>\n",
       "    <tr style=\"text-align: right;\">\n",
       "      <th></th>\n",
       "      <th>mesin x1</th>\n",
       "      <th>usia x2</th>\n",
       "      <th>km x3</th>\n",
       "      <th>harga y</th>\n",
       "    </tr>\n",
       "  </thead>\n",
       "  <tbody>\n",
       "    <tr>\n",
       "      <td>mesin x1</td>\n",
       "      <td>1.000000</td>\n",
       "      <td>-0.934973</td>\n",
       "      <td>-0.954740</td>\n",
       "      <td>0.996942</td>\n",
       "    </tr>\n",
       "    <tr>\n",
       "      <td>usia x2</td>\n",
       "      <td>-0.934973</td>\n",
       "      <td>1.000000</td>\n",
       "      <td>0.945611</td>\n",
       "      <td>-0.944911</td>\n",
       "    </tr>\n",
       "    <tr>\n",
       "      <td>km x3</td>\n",
       "      <td>-0.954740</td>\n",
       "      <td>0.945611</td>\n",
       "      <td>1.000000</td>\n",
       "      <td>-0.962250</td>\n",
       "    </tr>\n",
       "    <tr>\n",
       "      <td>harga y</td>\n",
       "      <td>0.996942</td>\n",
       "      <td>-0.944911</td>\n",
       "      <td>-0.962250</td>\n",
       "      <td>1.000000</td>\n",
       "    </tr>\n",
       "  </tbody>\n",
       "</table>\n",
       "</div>"
      ],
      "text/plain": [
       "          mesin x1   usia x2     km x3   harga y\n",
       "mesin x1  1.000000 -0.934973 -0.954740  0.996942\n",
       "usia x2  -0.934973  1.000000  0.945611 -0.944911\n",
       "km x3    -0.954740  0.945611  1.000000 -0.962250\n",
       "harga y   0.996942 -0.944911 -0.962250  1.000000"
      ]
     },
     "execution_count": 8,
     "metadata": {},
     "output_type": "execute_result"
    }
   ],
   "source": [
    "data2 = {\n",
    "    'mesin x1' : [112,250,360,450,600],\n",
    "    'usia x2' : [5,3,3,1,1],\n",
    "    'km x3' : [8,7,7,5,4],\n",
    "    'harga y' : [100, 200, 300, 400, 500]\n",
    "}\n",
    "df2 = pd.DataFrame(data2)\n",
    "df2.corr()\n"
   ]
  },
  {
   "cell_type": "code",
   "execution_count": 9,
   "metadata": {},
   "outputs": [
    {
     "data": {
      "text/plain": [
       "LinearRegression(copy_X=True, fit_intercept=True, n_jobs=None, normalize=False)"
      ]
     },
     "execution_count": 9,
     "metadata": {},
     "output_type": "execute_result"
    }
   ],
   "source": [
    "model = linear_model.LinearRegression()\n",
    "model.fit(df2[['mesin x1', 'usia x2', 'km x3']], df2['harga y'])"
   ]
  },
  {
   "cell_type": "code",
   "execution_count": 21,
   "metadata": {},
   "outputs": [
    {
     "data": {
      "text/plain": [
       "array([ 0.72827725, -6.57960824, -7.33299849])"
      ]
     },
     "execution_count": 21,
     "metadata": {},
     "output_type": "execute_result"
    }
   ],
   "source": [
    "m = (model.coef_)\n",
    "c = (model.intercept_)\n",
    "m"
   ]
  },
  {
   "cell_type": "code",
   "execution_count": 11,
   "metadata": {},
   "outputs": [
    {
     "data": {
      "text/plain": [
       "[<matplotlib.lines.Line2D at 0x1849261de88>]"
      ]
     },
     "execution_count": 11,
     "metadata": {},
     "output_type": "execute_result"
    },
    {
     "data": {
      "image/png": "[encoded data removed]",
      "text/plain": [
       "<Figure size 864x216 with 3 Axes>"
      ]
     },
     "metadata": {
      "needs_background": "light"
     },
     "output_type": "display_data"
    }
   ],
   "source": [
    "plt.figure(figsize=(12,3))\n",
    "plt.subplot(131)\n",
    "plt.plot(df2['mesin x1'], df2['harga y'], 'bo-')\n",
    "plt.subplot(132)\n",
    "plt.plot(df2['usia x2'], df2['harga y'], 'ro-')\n",
    "plt.subplot(133)\n",
    "plt.plot(df2['km x3'], df2['harga y'], 'go-')\n"
   ]
  },
  {
   "cell_type": "code",
   "execution_count": 12,
   "metadata": {},
   "outputs": [
    {
     "data": {
      "text/html": [
       "<div>\n",
       "<style scoped>\n",
       "    .dataframe tbody tr th:only-of-type {\n",
       "        vertical-align: middle;\n",
       "    }\n",
       "\n",
       "    .dataframe tbody tr th {\n",
       "        vertical-align: top;\n",
       "    }\n",
       "\n",
       "    .dataframe thead th {\n",
       "        text-align: right;\n",
       "    }\n",
       "</style>\n",
       "<table border=\"1\" class=\"dataframe\">\n",
       "  <thead>\n",
       "    <tr style=\"text-align: right;\">\n",
       "      <th></th>\n",
       "      <th>mesin x1</th>\n",
       "      <th>usia x2</th>\n",
       "      <th>km x3</th>\n",
       "      <th>harga y</th>\n",
       "    </tr>\n",
       "  </thead>\n",
       "  <tbody>\n",
       "    <tr>\n",
       "      <td>0</td>\n",
       "      <td>112</td>\n",
       "      <td>5</td>\n",
       "      <td>8</td>\n",
       "      <td>100</td>\n",
       "    </tr>\n",
       "    <tr>\n",
       "      <td>1</td>\n",
       "      <td>250</td>\n",
       "      <td>3</td>\n",
       "      <td>7</td>\n",
       "      <td>200</td>\n",
       "    </tr>\n",
       "    <tr>\n",
       "      <td>2</td>\n",
       "      <td>360</td>\n",
       "      <td>3</td>\n",
       "      <td>7</td>\n",
       "      <td>300</td>\n",
       "    </tr>\n",
       "    <tr>\n",
       "      <td>3</td>\n",
       "      <td>450</td>\n",
       "      <td>1</td>\n",
       "      <td>5</td>\n",
       "      <td>400</td>\n",
       "    </tr>\n",
       "    <tr>\n",
       "      <td>4</td>\n",
       "      <td>600</td>\n",
       "      <td>1</td>\n",
       "      <td>4</td>\n",
       "      <td>500</td>\n",
       "    </tr>\n",
       "  </tbody>\n",
       "</table>\n",
       "</div>"
      ],
      "text/plain": [
       "   mesin x1  usia x2  km x3  harga y\n",
       "0       112        5      8      100\n",
       "1       250        3      7      200\n",
       "2       360        3      7      300\n",
       "3       450        1      5      400\n",
       "4       600        1      4      500"
      ]
     },
     "execution_count": 12,
     "metadata": {},
     "output_type": "execute_result"
    }
   ],
   "source": [
    "df2"
   ]
  },
  {
   "cell_type": "code",
   "execution_count": 13,
   "metadata": {},
   "outputs": [
    {
     "data": {
      "text/plain": [
       "94.47513812154695"
      ]
     },
     "execution_count": 13,
     "metadata": {},
     "output_type": "execute_result"
    }
   ],
   "source": [
    "# mesin ,usia, km\n",
    "model.predict([[112,5,8]])[0]"
   ]
  },
  {
   "cell_type": "code",
   "execution_count": 14,
   "metadata": {},
   "outputs": [
    {
     "data": {
      "text/html": [
       "<div>\n",
       "<style scoped>\n",
       "    .dataframe tbody tr th:only-of-type {\n",
       "        vertical-align: middle;\n",
       "    }\n",
       "\n",
       "    .dataframe tbody tr th {\n",
       "        vertical-align: top;\n",
       "    }\n",
       "\n",
       "    .dataframe thead th {\n",
       "        text-align: right;\n",
       "    }\n",
       "</style>\n",
       "<table border=\"1\" class=\"dataframe\">\n",
       "  <thead>\n",
       "    <tr style=\"text-align: right;\">\n",
       "      <th></th>\n",
       "      <th>mesin x1</th>\n",
       "      <th>usia x2</th>\n",
       "      <th>km x3</th>\n",
       "      <th>harga y</th>\n",
       "      <th>y_pred</th>\n",
       "    </tr>\n",
       "  </thead>\n",
       "  <tbody>\n",
       "    <tr>\n",
       "      <td>0</td>\n",
       "      <td>112</td>\n",
       "      <td>5</td>\n",
       "      <td>8</td>\n",
       "      <td>100</td>\n",
       "      <td>94.475138</td>\n",
       "    </tr>\n",
       "    <tr>\n",
       "      <td>1</td>\n",
       "      <td>250</td>\n",
       "      <td>3</td>\n",
       "      <td>7</td>\n",
       "      <td>200</td>\n",
       "      <td>215.469613</td>\n",
       "    </tr>\n",
       "    <tr>\n",
       "      <td>2</td>\n",
       "      <td>360</td>\n",
       "      <td>3</td>\n",
       "      <td>7</td>\n",
       "      <td>300</td>\n",
       "      <td>295.580110</td>\n",
       "    </tr>\n",
       "    <tr>\n",
       "      <td>3</td>\n",
       "      <td>450</td>\n",
       "      <td>1</td>\n",
       "      <td>5</td>\n",
       "      <td>400</td>\n",
       "      <td>388.950276</td>\n",
       "    </tr>\n",
       "    <tr>\n",
       "      <td>4</td>\n",
       "      <td>600</td>\n",
       "      <td>1</td>\n",
       "      <td>4</td>\n",
       "      <td>500</td>\n",
       "      <td>505.524862</td>\n",
       "    </tr>\n",
       "  </tbody>\n",
       "</table>\n",
       "</div>"
      ],
      "text/plain": [
       "   mesin x1  usia x2  km x3  harga y      y_pred\n",
       "0       112        5      8      100   94.475138\n",
       "1       250        3      7      200  215.469613\n",
       "2       360        3      7      300  295.580110\n",
       "3       450        1      5      400  388.950276\n",
       "4       600        1      4      500  505.524862"
      ]
     },
     "execution_count": 14,
     "metadata": {},
     "output_type": "execute_result"
    }
   ],
   "source": [
    "df2['y_pred'] = model.predict(df2[['mesin x1', 'usia x2', 'km x3']])\n",
    "\n",
    "df2"
   ]
  },
  {
   "cell_type": "code",
   "execution_count": 15,
   "metadata": {},
   "outputs": [
    {
     "data": {
      "image/png": "[encoded data removed]",
      "text/plain": [
       "<Figure size 864x216 with 3 Axes>"
      ]
     },
     "metadata": {
      "needs_background": "light"
     },
     "output_type": "display_data"
    }
   ],
   "source": [
    "plt.figure(figsize=(12,3))\n",
    "plt.subplot(131)\n",
    "plt.plot(df2['mesin x1'], df2['harga y'], 'bo-')\n",
    "plt.plot(df2['mesin x1'], df2['y_pred'], 'yo-')\n",
    "\n",
    "plt.subplot(132)\n",
    "plt.plot(df2['usia x2'], df2['harga y'], 'ro-')\n",
    "plt.plot(df2['usia x2'], df2['y_pred'], 'yo-')\n",
    "\n",
    "plt.subplot(133)\n",
    "plt.plot(df2['km x3'], df2['harga y'], 'go-')\n",
    "plt.plot(df2['km x3'], df2['y_pred'], 'yo-')\n",
    "\n",
    "\n"
   ]
  },
  {
   "cell_type": "code",
   "execution_count": 22,
   "metadata": {},
   "outputs": [
    {
     "data": {
      "text/html": [
       "<div>\n",
       "<style scoped>\n",
       "    .dataframe tbody tr th:only-of-type {\n",
       "        vertical-align: middle;\n",
       "    }\n",
       "\n",
       "    .dataframe tbody tr th {\n",
       "        vertical-align: top;\n",
       "    }\n",
       "\n",
       "    .dataframe thead th {\n",
       "        text-align: right;\n",
       "    }\n",
       "</style>\n",
       "<table border=\"1\" class=\"dataframe\">\n",
       "  <thead>\n",
       "    <tr style=\"text-align: right;\">\n",
       "      <th></th>\n",
       "      <th>mesin x1</th>\n",
       "      <th>usia x2</th>\n",
       "      <th>km x3</th>\n",
       "      <th>harga y</th>\n",
       "      <th>y_pred</th>\n",
       "      <th>y'x1</th>\n",
       "      <th>y'x2</th>\n",
       "      <th>y'x3</th>\n",
       "    </tr>\n",
       "  </thead>\n",
       "  <tbody>\n",
       "    <tr>\n",
       "      <td>0</td>\n",
       "      <td>112</td>\n",
       "      <td>5</td>\n",
       "      <td>8</td>\n",
       "      <td>100</td>\n",
       "      <td>94.475138</td>\n",
       "      <td>186.037167</td>\n",
       "      <td>71.572074</td>\n",
       "      <td>45.806128</td>\n",
       "    </tr>\n",
       "    <tr>\n",
       "      <td>1</td>\n",
       "      <td>250</td>\n",
       "      <td>3</td>\n",
       "      <td>7</td>\n",
       "      <td>200</td>\n",
       "      <td>215.469613</td>\n",
       "      <td>286.539427</td>\n",
       "      <td>84.731291</td>\n",
       "      <td>53.139126</td>\n",
       "    </tr>\n",
       "    <tr>\n",
       "      <td>2</td>\n",
       "      <td>360</td>\n",
       "      <td>3</td>\n",
       "      <td>7</td>\n",
       "      <td>300</td>\n",
       "      <td>295.580110</td>\n",
       "      <td>366.649925</td>\n",
       "      <td>84.731291</td>\n",
       "      <td>53.139126</td>\n",
       "    </tr>\n",
       "    <tr>\n",
       "      <td>3</td>\n",
       "      <td>450</td>\n",
       "      <td>1</td>\n",
       "      <td>5</td>\n",
       "      <td>400</td>\n",
       "      <td>388.950276</td>\n",
       "      <td>432.194877</td>\n",
       "      <td>97.890507</td>\n",
       "      <td>67.805123</td>\n",
       "    </tr>\n",
       "    <tr>\n",
       "      <td>4</td>\n",
       "      <td>600</td>\n",
       "      <td>1</td>\n",
       "      <td>4</td>\n",
       "      <td>500</td>\n",
       "      <td>505.524862</td>\n",
       "      <td>541.436464</td>\n",
       "      <td>97.890507</td>\n",
       "      <td>75.138122</td>\n",
       "    </tr>\n",
       "  </tbody>\n",
       "</table>\n",
       "</div>"
      ],
      "text/plain": [
       "   mesin x1  usia x2  km x3  harga y      y_pred        y'x1       y'x2  \\\n",
       "0       112        5      8      100   94.475138  186.037167  71.572074   \n",
       "1       250        3      7      200  215.469613  286.539427  84.731291   \n",
       "2       360        3      7      300  295.580110  366.649925  84.731291   \n",
       "3       450        1      5      400  388.950276  432.194877  97.890507   \n",
       "4       600        1      4      500  505.524862  541.436464  97.890507   \n",
       "\n",
       "        y'x3  \n",
       "0  45.806128  \n",
       "1  53.139126  \n",
       "2  53.139126  \n",
       "3  67.805123  \n",
       "4  75.138122  "
      ]
     },
     "execution_count": 22,
     "metadata": {},
     "output_type": "execute_result"
    }
   ],
   "source": [
    "df2[\"y'x1\"] = m[0] * df2['mesin x1'] + c\n",
    "df2[\"y'x2\"] = m[1] * df2['usia x2'] + c\n",
    "df2[\"y'x3\"] = m[2] * df2['km x3'] + c\n",
    "\n",
    "df2 \n"
   ]
  },
  {
   "cell_type": "code",
   "execution_count": 23,
   "metadata": {},
   "outputs": [
    {
     "data": {
      "text/plain": [
       "[<matplotlib.lines.Line2D at 0x184928adcc8>]"
      ]
     },
     "execution_count": 23,
     "metadata": {},
     "output_type": "execute_result"
    },
    {
     "data": {
      "image/png": "[encoded data removed]",
      "text/plain": [
       "<Figure size 864x216 with 3 Axes>"
      ]
     },
     "metadata": {
      "needs_background": "light"
     },
     "output_type": "display_data"
    }
   ],
   "source": [
    "plt.figure(figsize=(12,3))\n",
    "plt.subplot(131)\n",
    "plt.plot(df2['mesin x1'], df2['harga y'], 'bo-')\n",
    "plt.plot(df2['mesin x1'], df2[\"y'x1\"], 'yo-')\n",
    "\n",
    "plt.subplot(132)\n",
    "plt.plot(df2['usia x2'], df2['harga y'], 'ro-')\n",
    "plt.plot(df2['usia x2'], df2[\"y'x2\"], 'yo-')\n",
    "\n",
    "plt.subplot(133)\n",
    "plt.plot(df2['km x3'], df2['harga y'], 'go-')\n",
    "plt.plot(df2['km x3'], df2[\"y'x3\"], 'yo-')\n"
   ]
  },
  {
   "cell_type": "markdown",
   "metadata": {},
   "source": [
    "### Evaluation Metrics"
   ]
  },
  {
   "cell_type": "code",
   "execution_count": 26,
   "metadata": {},
   "outputs": [
    {
     "name": "stdout",
     "output_type": "stream",
     "text": [
      "MAE: 8.4\n",
      "MSE: 88.4\n",
      "RMSE: 9.402127418834526\n",
      "MedAe: 5.52\n",
      "MSLE: 0.0\n",
      "RMSLE: 0.0\n",
      "R2 Score: 0.9955801104972376\n"
     ]
    }
   ],
   "source": [
    "\n",
    "print(\"MAE:\",round(mean_absolute_error(df2['harga y'],df2['y_pred']),2))\n",
    "print(\"MSE:\",round(mean_squared_error(df2['harga y'],df2['y_pred']),2))\n",
    "print(\"RMSE:\",np.sqrt(round(mean_squared_error(df2['harga y'],df2['y_pred']),2)))\n",
    "print(\"MedAe:\",round(median_absolute_error(df2['harga y'],df2['y_pred']),2))\n",
    "print(\"MSLE:\",round(mean_squared_log_error(df2['harga y'],df2['y_pred']),2))\n",
    "print(\"RMSLE:\",np.sqrt(round(mean_squared_log_error(df2['harga y'],df2['y_pred']),2)))\n",
    "print(\"R2 Score:\",(r2_score(df2['harga y'],df2['y_pred'])))\n"
   ]
  },
  {
   "cell_type": "code",
   "execution_count": null,
   "metadata": {},
   "outputs": [],
   "source": []
  }
 ],
 "metadata": {
  "kernelspec": {
   "display_name": "Python 3",
   "language": "python",
   "name": "python3"
  },
  "language_info": {
   "codemirror_mode": {
    "name": "ipython",
    "version": 3
   },
   "file_extension": ".py",
   "mimetype": "text/x-python",
   "name": "python",
   "nbconvert_exporter": "python",
   "pygments_lexer": "ipython3",
   "version": "3.7.6"
  }
 },
 "nbformat": 4,
 "nbformat_minor": 4
}
