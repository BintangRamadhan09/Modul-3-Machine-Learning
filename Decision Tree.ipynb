{
 "cells": [
  {
   "cell_type": "code",
   "execution_count": 15,
   "metadata": {},
   "outputs": [],
   "source": [
    "import pandas as pd\n",
    "import numpy as np\n",
    "import matplotlib.pyplot as plt"
   ]
  },
  {
   "cell_type": "code",
   "execution_count": 2,
   "metadata": {},
   "outputs": [],
   "source": [
    "df = pd.DataFrame({\n",
    "    'sarjana' : [0,0,0,1,1,1],\n",
    "    'diterima' : [0,0,0,1,1,1]\n",
    "})"
   ]
  },
  {
   "cell_type": "markdown",
   "metadata": {},
   "source": [
    "- Root : starting question akar, awal dari percabangan (sarjana atau tidak)\n",
    "- nodes : jumlah kotak\n",
    "- question branch/internal nodes percabnagan pertanyaaan\n",
    "- leafs : keputusan akhir"
   ]
  },
  {
   "cell_type": "markdown",
   "metadata": {},
   "source": [
    "dari decision trees dapat dikembangkan menjadi random forest dan bus"
   ]
  },
  {
   "cell_type": "markdown",
   "metadata": {},
   "source": [
    "- 1 root dan 2 leaf = stump"
   ]
  },
  {
   "cell_type": "code",
   "execution_count": 3,
   "metadata": {},
   "outputs": [
    {
     "data": {
      "text/html": [
       "<div>\n",
       "<style scoped>\n",
       "    .dataframe tbody tr th:only-of-type {\n",
       "        vertical-align: middle;\n",
       "    }\n",
       "\n",
       "    .dataframe tbody tr th {\n",
       "        vertical-align: top;\n",
       "    }\n",
       "\n",
       "    .dataframe thead th {\n",
       "        text-align: right;\n",
       "    }\n",
       "</style>\n",
       "<table border=\"1\" class=\"dataframe\">\n",
       "  <thead>\n",
       "    <tr style=\"text-align: right;\">\n",
       "      <th></th>\n",
       "      <th>sarjana</th>\n",
       "      <th>diterima</th>\n",
       "    </tr>\n",
       "  </thead>\n",
       "  <tbody>\n",
       "    <tr>\n",
       "      <td>0</td>\n",
       "      <td>0</td>\n",
       "      <td>0</td>\n",
       "    </tr>\n",
       "    <tr>\n",
       "      <td>1</td>\n",
       "      <td>0</td>\n",
       "      <td>0</td>\n",
       "    </tr>\n",
       "    <tr>\n",
       "      <td>2</td>\n",
       "      <td>0</td>\n",
       "      <td>0</td>\n",
       "    </tr>\n",
       "    <tr>\n",
       "      <td>3</td>\n",
       "      <td>1</td>\n",
       "      <td>1</td>\n",
       "    </tr>\n",
       "    <tr>\n",
       "      <td>4</td>\n",
       "      <td>1</td>\n",
       "      <td>1</td>\n",
       "    </tr>\n",
       "    <tr>\n",
       "      <td>5</td>\n",
       "      <td>1</td>\n",
       "      <td>1</td>\n",
       "    </tr>\n",
       "  </tbody>\n",
       "</table>\n",
       "</div>"
      ],
      "text/plain": [
       "   sarjana  diterima\n",
       "0        0         0\n",
       "1        0         0\n",
       "2        0         0\n",
       "3        1         1\n",
       "4        1         1\n",
       "5        1         1"
      ]
     },
     "execution_count": 3,
     "metadata": {},
     "output_type": "execute_result"
    }
   ],
   "source": [
    "df"
   ]
  },
  {
   "cell_type": "markdown",
   "metadata": {},
   "source": [
    "               Sarjana?\n",
    "                 |\n",
    "         True ___|___ false\n",
    "             |       |\n",
    "          diterima   diterima\n",
    "          2+    1-   1+    2-"
   ]
  },
  {
   "cell_type": "markdown",
   "metadata": {},
   "source": [
    "## Gini Impurity\n",
    "\n",
    "- Hitung Gini untuk tiap leaf dalam feature: Gini S1True & S1False\n",
    "- Gini $\\displaystyle = 1 - $ (probability TRUE) $^2 - $ (probability FALSE) $^2$\n",
    "- Hitung Gini total untuk 1 feature: gini S1"
   ]
  },
  {
   "cell_type": "markdown",
   "metadata": {},
   "source": [
    "               Sarjana?\n",
    "                 |\n",
    "         True ___|___ false\n",
    "             |       |\n",
    "          diterima   diterima\n",
    "          2+    1-   1+    2-\n",
    "         g:0.4444     g:0.4444\n",
    "     \n",
    "- giniS1True = 1 - (2/3)^2 - (1/3)^2"
   ]
  },
  {
   "cell_type": "code",
   "execution_count": 4,
   "metadata": {},
   "outputs": [
    {
     "data": {
      "text/plain": [
       "0.4444444444444445"
      ]
     },
     "execution_count": 4,
     "metadata": {},
     "output_type": "execute_result"
    }
   ],
   "source": [
    "giniS1True = 1 - (2/3)**2 - (1/3)**2\n",
    "giniS1True"
   ]
  },
  {
   "cell_type": "code",
   "execution_count": 5,
   "metadata": {},
   "outputs": [],
   "source": [
    "# - giniS1True = 1 - (2/3)^2 - (1/3)^2 = 0.44444\n",
    "# - giniS1False = 1 - (2/3)^2 - (1/3)^2 = 0.44444\n",
    "\n",
    "# - giniSarjana = (totalDataS1True/totalData) * giniS1True\n",
    "# - giniSarjana = (3/6)*0.44444 + (3/6)*0.44444"
   ]
  },
  {
   "cell_type": "code",
   "execution_count": 6,
   "metadata": {},
   "outputs": [
    {
     "data": {
      "text/plain": [
       "(0.4444444444444445, 0.4444444444444445, 0.4444444444444445)"
      ]
     },
     "execution_count": 6,
     "metadata": {},
     "output_type": "execute_result"
    }
   ],
   "source": [
    "giniS1True = 1 - (2/3)**2 - (1/3)**2\n",
    "giniS1False = 1 - (2/3)**2 - (1/3)**2\n",
    "giniS1 = (3/6)*giniS1True + (3/6)*giniS1False\n",
    "giniS1True,giniS1False,giniS1"
   ]
  },
  {
   "cell_type": "code",
   "execution_count": 7,
   "metadata": {},
   "outputs": [
    {
     "data": {
      "text/plain": [
       "0"
      ]
     },
     "execution_count": 7,
     "metadata": {},
     "output_type": "execute_result"
    }
   ],
   "source": [
    "from sklearn import tree\n",
    "model = tree.DecisionTreeClassifier()\n",
    "model.fit(df[['sarjana']],df['diterima'])\n",
    "model.predict([[0]])[0]"
   ]
  },
  {
   "cell_type": "code",
   "execution_count": 8,
   "metadata": {},
   "outputs": [
    {
     "data": {
      "text/plain": [
       "[Text(248.0, 277.2, 'X[0] <= 0.5\\ngini = 0.5\\nsamples = 6\\nvalue = [3, 3]'),\n",
       " Text(124.0, 92.39999999999998, 'gini = 0.0\\nsamples = 3\\nvalue = [3, 0]'),\n",
       " Text(372.0, 92.39999999999998, 'gini = 0.0\\nsamples = 3\\nvalue = [0, 3]')]"
      ]
     },
     "execution_count": 8,
     "metadata": {},
     "output_type": "execute_result"
    }
   ],
   "source": [
    "tree.plot_tree(model.fit(df[['sarjana']],df['diterima']))\n"
   ]
  },
  {
   "cell_type": "code",
   "execution_count": 9,
   "metadata": {},
   "outputs": [],
   "source": [
    "tree.export_graphviz(model.fit(df[['sarjana']],df['diterima']),\n",
    "                    out_file = 'decision.dot',\n",
    "                    feature_names = ['Sarjana'],\n",
    "                    class_names = ['Diterima','Tidak diterima'])\n"
   ]
  },
  {
   "cell_type": "markdown",
   "metadata": {},
   "source": [
    "### https://dreampuf.github.io/GraphvizOnline\n",
    "\n",
    "![decisiontree](./graphviz.png)"
   ]
  },
  {
   "cell_type": "markdown",
   "metadata": {},
   "source": [
    "### Entropy & Gain\n",
    "\n",
    "- Hitung Entropy untuk tiap leaf di feature: E(sTrue) & E(s1False)\n",
    "- Entropy $\\displaystyle \\sum -p_i \\cdot log_2 (p_i)$ \n",
    "- Gain = E - E.feature\n",
    "\n",
    "              Sarjana?\n",
    "                 |\n",
    "         True ___|___ false\n",
    "             |       |\n",
    "          diterima   diterima\n",
    "          2+    1-   1+    2-\n",
    "         g:0.918   g:0.918\n",
    "         \n",
    "         \n",
    "         \n",
    "     \n",
    "- ES1True = -1 * (2/3) * 2log(2/3)"
   ]
  },
  {
   "cell_type": "code",
   "execution_count": 10,
   "metadata": {},
   "outputs": [
    {
     "data": {
      "text/plain": [
       "(0.9182958340544896, 0.38997500048077083, 0.5283208335737187)"
      ]
     },
     "execution_count": 10,
     "metadata": {},
     "output_type": "execute_result"
    }
   ],
   "source": [
    "# Manual Count Using Entropy\n",
    "\n",
    "Es1TruedTrue = -1 * (2/3) * np.log2(2/3)\n",
    "Es1TruedFalse = -1 * (1/3) * np.log2(1/3)\n",
    "Es1True = Es1TruedTrue + Es1TruedFalse\n",
    "Es1True,Es1TruedTrue,Es1TruedFalse"
   ]
  },
  {
   "cell_type": "code",
   "execution_count": 11,
   "metadata": {},
   "outputs": [
    {
     "data": {
      "text/plain": [
       "(0.9182958340544896, 0.5283208335737187, 0.38997500048077083)"
      ]
     },
     "execution_count": 11,
     "metadata": {},
     "output_type": "execute_result"
    }
   ],
   "source": [
    "Es1TruedTrue = -1 * (1/3) * np.log2(1/3)\n",
    "Es1TruedFalse = -1 * (2/3) * np.log2(2/3)\n",
    "Es1True = Es1TruedTrue + Es1TruedFalse\n",
    "Es1True,Es1TruedTrue,Es1TruedFalse"
   ]
  },
  {
   "cell_type": "code",
   "execution_count": 14,
   "metadata": {},
   "outputs": [
    {
     "data": {
      "text/plain": [
       "1.0"
      ]
     },
     "execution_count": 14,
     "metadata": {},
     "output_type": "execute_result"
    }
   ],
   "source": [
    "Esarjana = -1 * (3/6) * np.log2(3/6) + -1 * (3/6) * np.log2(3/6)\n",
    "Esarjana"
   ]
  },
  {
   "cell_type": "code",
   "execution_count": 20,
   "metadata": {},
   "outputs": [
    {
     "data": {
      "text/plain": [
       "0"
      ]
     },
     "execution_count": 20,
     "metadata": {},
     "output_type": "execute_result"
    }
   ],
   "source": [
    "from sklearn import tree\n",
    "# Entropy Using sklearn\n",
    "model1 = tree.DecisionTreeClassifier(criterion='entropy')\n",
    "model1.fit(df[['sarjana']],df['diterima'])\n",
    "model1.predict([[0]])[0]"
   ]
  },
  {
   "cell_type": "code",
   "execution_count": 13,
   "metadata": {},
   "outputs": [
    {
     "data": {
      "text/plain": [
       "[Text(167.4, 163.07999999999998, 'X[0] <= 0.5\\nentropy = 1.0\\nsamples = 6\\nvalue = [3, 3]'),\n",
       " Text(83.7, 54.360000000000014, 'entropy = 0.0\\nsamples = 3\\nvalue = [3, 0]'),\n",
       " Text(251.10000000000002, 54.360000000000014, 'entropy = 0.0\\nsamples = 3\\nvalue = [0, 3]')]"
      ]
     },
     "execution_count": 13,
     "metadata": {},
     "output_type": "execute_result"
    },
    {
     "data": {
      "image/png": "[encoded data removed]",
      "text/plain": [
       "<Figure size 432x288 with 1 Axes>"
      ]
     },
     "metadata": {
      "needs_background": "light"
     },
     "output_type": "display_data"
    }
   ],
   "source": [
    "tree.plot_tree(model1.fit(df[['sarjana']],df['diterima']))\n"
   ]
  },
  {
   "cell_type": "code",
   "execution_count": 17,
   "metadata": {},
   "outputs": [
    {
     "data": {
      "text/html": [
       "<div>\n",
       "<style scoped>\n",
       "    .dataframe tbody tr th:only-of-type {\n",
       "        vertical-align: middle;\n",
       "    }\n",
       "\n",
       "    .dataframe tbody tr th {\n",
       "        vertical-align: top;\n",
       "    }\n",
       "\n",
       "    .dataframe thead th {\n",
       "        text-align: right;\n",
       "    }\n",
       "</style>\n",
       "<table border=\"1\" class=\"dataframe\">\n",
       "  <thead>\n",
       "    <tr style=\"text-align: right;\">\n",
       "      <th></th>\n",
       "      <th>sarjana</th>\n",
       "      <th>sehat</th>\n",
       "      <th>supel</th>\n",
       "      <th>diterima</th>\n",
       "    </tr>\n",
       "  </thead>\n",
       "  <tbody>\n",
       "    <tr>\n",
       "      <td>0</td>\n",
       "      <td>1</td>\n",
       "      <td>1</td>\n",
       "      <td>1</td>\n",
       "      <td>1</td>\n",
       "    </tr>\n",
       "    <tr>\n",
       "      <td>1</td>\n",
       "      <td>1</td>\n",
       "      <td>0</td>\n",
       "      <td>0</td>\n",
       "      <td>1</td>\n",
       "    </tr>\n",
       "    <tr>\n",
       "      <td>2</td>\n",
       "      <td>0</td>\n",
       "      <td>1</td>\n",
       "      <td>1</td>\n",
       "      <td>0</td>\n",
       "    </tr>\n",
       "    <tr>\n",
       "      <td>3</td>\n",
       "      <td>0</td>\n",
       "      <td>0</td>\n",
       "      <td>1</td>\n",
       "      <td>0</td>\n",
       "    </tr>\n",
       "    <tr>\n",
       "      <td>4</td>\n",
       "      <td>0</td>\n",
       "      <td>0</td>\n",
       "      <td>1</td>\n",
       "      <td>0</td>\n",
       "    </tr>\n",
       "  </tbody>\n",
       "</table>\n",
       "</div>"
      ],
      "text/plain": [
       "   sarjana  sehat  supel  diterima\n",
       "0        1      1      1         1\n",
       "1        1      0      0         1\n",
       "2        0      1      1         0\n",
       "3        0      0      1         0\n",
       "4        0      0      1         0"
      ]
     },
     "execution_count": 17,
     "metadata": {},
     "output_type": "execute_result"
    }
   ],
   "source": [
    "df1 = pd.DataFrame([\n",
    "    {'sarjana':1 , 'sehat':1, 'supel':1, 'diterima':1},\n",
    "    {'sarjana':1 , 'sehat':0, 'supel':0, 'diterima':1},\n",
    "    {'sarjana':0 , 'sehat':1, 'supel':1, 'diterima':0},\n",
    "    {'sarjana':0 , 'sehat':0, 'supel':1, 'diterima':0},\n",
    "    {'sarjana':0 , 'sehat':0, 'supel':1, 'diterima':0},\n",
    "\n",
    "\n",
    "    \n",
    "])\n",
    "df1"
   ]
  },
  {
   "cell_type": "markdown",
   "metadata": {},
   "source": [
    "              Sarjana?\n",
    "                 |\n",
    "         True ___|___ false\n",
    "             |       |\n",
    "          diterima   diterima\n",
    "          2+    0-   0+    3-\n",
    "         g:0.918   g:0.918\n",
    "         \n",
    "\n",
    "- gini S1True = 1 -(2/2)^2 - (0/2)^2 = 0\n",
    "- gini S1False = 1 - (0/3)^2 - (3/3)^2 = 0\n",
    "- gini Sarjana = (2/5) * 0 (3/5) * 0 = 0\n",
    "\n",
    "\n",
    "              Sehat?\n",
    "                 |\n",
    "         True ___|___ false\n",
    "             |       |\n",
    "          diterima   diterima\n",
    "          1+    1-   1+    2-\n",
    "          \n",
    "- gini sehatTrue = 1 - (1/2)^2 - (1/2)^2 =  0.5\n",
    "- gini sehatFalse = 1 - (1/3)^2 - (2/3)^2 =0.4444\n",
    "- gini Sehat = (2/5)*0.5 + (3/5)*0.44444 = 0.46\n",
    "\n",
    "\n",
    "                Supel?\n",
    "                 |\n",
    "         True ___|___ false\n",
    "             |       |\n",
    "          diterima   diterima\n",
    "          1+    1-   1+    2-\n",
    "          \n"
   ]
  },
  {
   "cell_type": "code",
   "execution_count": 18,
   "metadata": {},
   "outputs": [
    {
     "data": {
      "text/plain": [
       "0"
      ]
     },
     "execution_count": 18,
     "metadata": {},
     "output_type": "execute_result"
    }
   ],
   "source": [
    "model2 = tree.DecisionTreeClassifier(criterion='gini')\n",
    "model2.fit(df1[['sarjana','sehat','supel']],df1['diterima'])\n",
    "model2.predict([[0,1,1]])[0]"
   ]
  },
  {
   "cell_type": "code",
   "execution_count": 22,
   "metadata": {},
   "outputs": [
    {
     "data": {
      "text/plain": [
       "[Text(167.4, 163.07999999999998, 'X[0] <= 0.5\\ngini = 0.48\\nsamples = 5\\nvalue = [3, 2]'),\n",
       " Text(83.7, 54.360000000000014, 'gini = 0.0\\nsamples = 3\\nvalue = [3, 0]'),\n",
       " Text(251.10000000000002, 54.360000000000014, 'gini = 0.0\\nsamples = 2\\nvalue = [0, 2]')]"
      ]
     },
     "execution_count": 22,
     "metadata": {},
     "output_type": "execute_result"
    },
    {
     "data": {
      "image/png": "[encoded data removed]",
      "text/plain": [
       "<Figure size 432x288 with 1 Axes>"
      ]
     },
     "metadata": {
      "needs_background": "light"
     },
     "output_type": "display_data"
    }
   ],
   "source": [
    "tree.plot_tree(model2.fit(df1[['sarjana','sehat','supel']],df1['diterima']))"
   ]
  },
  {
   "cell_type": "code",
   "execution_count": 24,
   "metadata": {},
   "outputs": [],
   "source": [
    "tree.export_graphviz(model2.fit(df1[['sarjana','supel','sehat']],df1['diterima']),\n",
    "                    out_file = 'decision1.dot',\n",
    "                    feature_names = ['Sarjana','Sehat','Supel'],\n",
    "                    class_names = ['Diterima','Tidak diterima'])"
   ]
  },
  {
   "cell_type": "code",
   "execution_count": 29,
   "metadata": {},
   "outputs": [],
   "source": [
    "from sklearn.datasets import load_iris\n",
    "x = load_iris()"
   ]
  },
  {
   "cell_type": "code",
   "execution_count": 34,
   "metadata": {},
   "outputs": [],
   "source": [
    "df2 = pd.DataFrame(x['data'], columns=['sl','sw','pl','pw'])\n",
    "df2['target'] = x['target']\n",
    "model3 = tree.DecisionTreeClassifier()\n",
    "model3.fit(df2[['sl','sw','pl','pw']],df2['target'])\n",
    "\n",
    "tree.export_graphviz(\n",
    "    model3.fit(df2[['sl','sw','pl','pw']],df2['target']),\n",
    "    out_file = 'decisionIris.dot',\n",
    "    feature_names = ['SL','SW','PL','PW'],\n",
    "    class_names = x['target_names'])\n",
    "    "
   ]
  },
  {
   "cell_type": "code",
   "execution_count": null,
   "metadata": {},
   "outputs": [],
   "source": []
  }
 ],
 "metadata": {
  "kernelspec": {
   "display_name": "Python 3",
   "language": "python",
   "name": "python3"
  },
  "language_info": {
   "codemirror_mode": {
    "name": "ipython",
    "version": 3
   },
   "file_extension": ".py",
   "mimetype": "text/x-python",
   "name": "python",
   "nbconvert_exporter": "python",
   "pygments_lexer": "ipython3",
   "version": "3.7.6"
  }
 },
 "nbformat": 4,
 "nbformat_minor": 4
}
