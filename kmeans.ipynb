{
 "cells": [
  {
   "cell_type": "markdown",
   "metadata": {},
   "source": [
    "### K - Means"
   ]
  },
  {
   "cell_type": "code",
   "execution_count": 1,
   "metadata": {},
   "outputs": [],
   "source": [
    "import pandas as pd\n",
    "import numpy as np \n",
    "import matplotlib.pyplot as plt"
   ]
  },
  {
   "cell_type": "code",
   "execution_count": 2,
   "metadata": {},
   "outputs": [
    {
     "data": {
      "text/plain": [
       "['DESCR', 'data', 'feature_names', 'filename', 'target', 'target_names']"
      ]
     },
     "execution_count": 2,
     "metadata": {},
     "output_type": "execute_result"
    }
   ],
   "source": [
    "from sklearn.datasets import load_iris\n",
    "iris = load_iris()\n",
    "dir(iris)"
   ]
  },
  {
   "cell_type": "code",
   "execution_count": 3,
   "metadata": {},
   "outputs": [
    {
     "data": {
      "text/html": [
       "<div>\n",
       "<style scoped>\n",
       "    .dataframe tbody tr th:only-of-type {\n",
       "        vertical-align: middle;\n",
       "    }\n",
       "\n",
       "    .dataframe tbody tr th {\n",
       "        vertical-align: top;\n",
       "    }\n",
       "\n",
       "    .dataframe thead th {\n",
       "        text-align: right;\n",
       "    }\n",
       "</style>\n",
       "<table border=\"1\" class=\"dataframe\">\n",
       "  <thead>\n",
       "    <tr style=\"text-align: right;\">\n",
       "      <th></th>\n",
       "      <th>SL</th>\n",
       "      <th>SW</th>\n",
       "      <th>PL</th>\n",
       "      <th>PW</th>\n",
       "      <th>target</th>\n",
       "    </tr>\n",
       "  </thead>\n",
       "  <tbody>\n",
       "    <tr>\n",
       "      <td>0</td>\n",
       "      <td>5.1</td>\n",
       "      <td>3.5</td>\n",
       "      <td>1.4</td>\n",
       "      <td>0.2</td>\n",
       "      <td>0</td>\n",
       "    </tr>\n",
       "    <tr>\n",
       "      <td>1</td>\n",
       "      <td>4.9</td>\n",
       "      <td>3.0</td>\n",
       "      <td>1.4</td>\n",
       "      <td>0.2</td>\n",
       "      <td>0</td>\n",
       "    </tr>\n",
       "    <tr>\n",
       "      <td>2</td>\n",
       "      <td>4.7</td>\n",
       "      <td>3.2</td>\n",
       "      <td>1.3</td>\n",
       "      <td>0.2</td>\n",
       "      <td>0</td>\n",
       "    </tr>\n",
       "    <tr>\n",
       "      <td>3</td>\n",
       "      <td>4.6</td>\n",
       "      <td>3.1</td>\n",
       "      <td>1.5</td>\n",
       "      <td>0.2</td>\n",
       "      <td>0</td>\n",
       "    </tr>\n",
       "    <tr>\n",
       "      <td>4</td>\n",
       "      <td>5.0</td>\n",
       "      <td>3.6</td>\n",
       "      <td>1.4</td>\n",
       "      <td>0.2</td>\n",
       "      <td>0</td>\n",
       "    </tr>\n",
       "  </tbody>\n",
       "</table>\n",
       "</div>"
      ],
      "text/plain": [
       "    SL   SW   PL   PW  target\n",
       "0  5.1  3.5  1.4  0.2       0\n",
       "1  4.9  3.0  1.4  0.2       0\n",
       "2  4.7  3.2  1.3  0.2       0\n",
       "3  4.6  3.1  1.5  0.2       0\n",
       "4  5.0  3.6  1.4  0.2       0"
      ]
     },
     "execution_count": 3,
     "metadata": {},
     "output_type": "execute_result"
    }
   ],
   "source": [
    "df = pd.DataFrame(\n",
    "    iris['data'],columns=['SL','SW','PL','PW'])\n",
    "df['target'] = iris['target']\n",
    "df.head()"
   ]
  },
  {
   "cell_type": "code",
   "execution_count": 4,
   "metadata": {},
   "outputs": [
    {
     "data": {
      "text/plain": [
       "[<matplotlib.lines.Line2D at 0x1ebb4107a88>]"
      ]
     },
     "execution_count": 4,
     "metadata": {},
     "output_type": "execute_result"
    },
    {
     "data": {
      "image/png": "[encoded data removed]",
      "text/plain": [
       "<Figure size 432x288 with 2 Axes>"
      ]
     },
     "metadata": {
      "needs_background": "light"
     },
     "output_type": "display_data"
    }
   ],
   "source": [
    "plt.subplot(121)\n",
    "plt.plot(df['SL'][df['target']==0],df['SW'][df['target']==0],'r.')\n",
    "plt.plot(df['SL'][df['target']==1],df['SW'][df['target']==1],'g.')\n",
    "plt.plot(df['SL'][df['target']==2],df['SW'][df['target']==2],'b.')\n",
    "plt.subplot(122)\n",
    "plt.plot(df['PL'][df['target']==0],df['PW'][df['target']==0],'r.')\n",
    "plt.plot(df['PL'][df['target']==1],df['PW'][df['target']==1],'g.')\n",
    "plt.plot(df['PL'][df['target']==2],df['PW'][df['target']==2],'b.')\n",
    "\n"
   ]
  },
  {
   "cell_type": "markdown",
   "metadata": {},
   "source": [
    "#### K - means clustering"
   ]
  },
  {
   "cell_type": "code",
   "execution_count": 5,
   "metadata": {},
   "outputs": [
    {
     "data": {
      "text/plain": [
       "KMeans(algorithm='auto', copy_x=True, init='k-means++', max_iter=200,\n",
       "       n_clusters=3, n_init=10, n_jobs=None, precompute_distances='auto',\n",
       "       random_state=None, tol=0.0001, verbose=0)"
      ]
     },
     "execution_count": 5,
     "metadata": {},
     "output_type": "execute_result"
    }
   ],
   "source": [
    "from sklearn.cluster import KMeans\n",
    "model  = KMeans(n_clusters =3, max_iter= 200)\n",
    "model.fit(df[['SL','SW','PL','PW']])"
   ]
  },
  {
   "cell_type": "code",
   "execution_count": 6,
   "metadata": {},
   "outputs": [
    {
     "data": {
      "text/html": [
       "<div>\n",
       "<style scoped>\n",
       "    .dataframe tbody tr th:only-of-type {\n",
       "        vertical-align: middle;\n",
       "    }\n",
       "\n",
       "    .dataframe tbody tr th {\n",
       "        vertical-align: top;\n",
       "    }\n",
       "\n",
       "    .dataframe thead th {\n",
       "        text-align: right;\n",
       "    }\n",
       "</style>\n",
       "<table border=\"1\" class=\"dataframe\">\n",
       "  <thead>\n",
       "    <tr style=\"text-align: right;\">\n",
       "      <th></th>\n",
       "      <th>SL</th>\n",
       "      <th>SW</th>\n",
       "      <th>PL</th>\n",
       "      <th>PW</th>\n",
       "      <th>target</th>\n",
       "      <th>pred</th>\n",
       "    </tr>\n",
       "  </thead>\n",
       "  <tbody>\n",
       "    <tr>\n",
       "      <td>0</td>\n",
       "      <td>5.1</td>\n",
       "      <td>3.5</td>\n",
       "      <td>1.4</td>\n",
       "      <td>0.2</td>\n",
       "      <td>0</td>\n",
       "      <td>0</td>\n",
       "    </tr>\n",
       "    <tr>\n",
       "      <td>1</td>\n",
       "      <td>4.9</td>\n",
       "      <td>3.0</td>\n",
       "      <td>1.4</td>\n",
       "      <td>0.2</td>\n",
       "      <td>0</td>\n",
       "      <td>0</td>\n",
       "    </tr>\n",
       "    <tr>\n",
       "      <td>2</td>\n",
       "      <td>4.7</td>\n",
       "      <td>3.2</td>\n",
       "      <td>1.3</td>\n",
       "      <td>0.2</td>\n",
       "      <td>0</td>\n",
       "      <td>0</td>\n",
       "    </tr>\n",
       "    <tr>\n",
       "      <td>3</td>\n",
       "      <td>4.6</td>\n",
       "      <td>3.1</td>\n",
       "      <td>1.5</td>\n",
       "      <td>0.2</td>\n",
       "      <td>0</td>\n",
       "      <td>0</td>\n",
       "    </tr>\n",
       "    <tr>\n",
       "      <td>4</td>\n",
       "      <td>5.0</td>\n",
       "      <td>3.6</td>\n",
       "      <td>1.4</td>\n",
       "      <td>0.2</td>\n",
       "      <td>0</td>\n",
       "      <td>0</td>\n",
       "    </tr>\n",
       "  </tbody>\n",
       "</table>\n",
       "</div>"
      ],
      "text/plain": [
       "    SL   SW   PL   PW  target  pred\n",
       "0  5.1  3.5  1.4  0.2       0     0\n",
       "1  4.9  3.0  1.4  0.2       0     0\n",
       "2  4.7  3.2  1.3  0.2       0     0\n",
       "3  4.6  3.1  1.5  0.2       0     0\n",
       "4  5.0  3.6  1.4  0.2       0     0"
      ]
     },
     "execution_count": 6,
     "metadata": {},
     "output_type": "execute_result"
    }
   ],
   "source": [
    "model.labels_\n",
    "df['pred'] = model.predict(df[['SL','SW','PL','PW']])\n",
    "df.head()\n",
    "#1. Target 0 1 2 == 1 0 2 => prediksi 1 0 2\n",
    "#2. ++ iterasi k means"
   ]
  },
  {
   "cell_type": "code",
   "execution_count": 7,
   "metadata": {},
   "outputs": [
    {
     "data": {
      "text/plain": [
       "[<matplotlib.lines.Line2D at 0x1ebb5b0ac88>]"
      ]
     },
     "execution_count": 7,
     "metadata": {},
     "output_type": "execute_result"
    },
    {
     "data": {
      "image/png": "[encoded data removed]",
      "text/plain": [
       "<Figure size 864x504 with 4 Axes>"
      ]
     },
     "metadata": {
      "needs_background": "light"
     },
     "output_type": "display_data"
    }
   ],
   "source": [
    "plt.figure(figsize=(12,7))\n",
    "plt.subplot(221)\n",
    "plt.plot(df['SL'][df['target'] == 0],df['SW'][df['target']==0],'r.')\n",
    "plt.plot(df['SL'][df['target'] == 1],df['SW'][df['target']==1],'m.')\n",
    "plt.plot(df['SL'][df['target'] == 2],df['SW'][df['target']==2],'b.')\n",
    "\n",
    "plt.subplot(222)\n",
    "plt.plot(df['PL'][df['target'] == 0],df['PW'][df['target']==0],'r.')\n",
    "plt.plot(df['PL'][df['target'] == 1],df['PW'][df['target']==1],'m.')\n",
    "plt.plot(df['PL'][df['target'] == 2],df['PW'][df['target']==2],'b.')\n",
    "\n",
    "plt.subplot(223)\n",
    "plt.plot(df['SL'][df['pred'] == 0],df['SW'][df['pred']==0],'r.')\n",
    "plt.plot(df['SL'][df['pred'] == 1],df['SW'][df['pred']==1],'y.')\n",
    "plt.plot(df['SL'][df['pred'] == 2],df['SW'][df['pred']==2],'b.')\n",
    "\n",
    "plt.subplot(224)\n",
    "plt.plot(df['PL'][df['pred'] == 0],df['PW'][df['pred']==0],'r.')\n",
    "plt.plot(df['PL'][df['pred'] == 1],df['PW'][df['pred']==1],'y.')\n",
    "plt.plot(df['PL'][df['pred'] == 2],df['PW'][df['pred']==2],'b.')"
   ]
  },
  {
   "cell_type": "code",
   "execution_count": 8,
   "metadata": {},
   "outputs": [
    {
     "data": {
      "text/plain": [
       "array([[5.006     , 3.428     , 1.462     , 0.246     ],\n",
       "       [5.9016129 , 2.7483871 , 4.39354839, 1.43387097],\n",
       "       [6.85      , 3.07368421, 5.74210526, 2.07105263]])"
      ]
     },
     "execution_count": 8,
     "metadata": {},
     "output_type": "execute_result"
    }
   ],
   "source": [
    "# Centroids\n",
    "model.cluster_centers_"
   ]
  },
  {
   "cell_type": "code",
   "execution_count": 9,
   "metadata": {},
   "outputs": [
    {
     "data": {
      "text/plain": [
       "[<matplotlib.lines.Line2D at 0x1ebb5b85e88>]"
      ]
     },
     "execution_count": 9,
     "metadata": {},
     "output_type": "execute_result"
    },
    {
     "data": {
      "image/png": "[encoded data removed]",
      "text/plain": [
       "<Figure size 864x360 with 2 Axes>"
      ]
     },
     "metadata": {
      "needs_background": "light"
     },
     "output_type": "display_data"
    }
   ],
   "source": [
    "\n",
    "plt.figure(figsize=(12,5))\n",
    "plt.subplot(121)\n",
    "plt.scatter(model.cluster_centers_[:,0],\n",
    "           model.cluster_centers_[:,1],\n",
    "           color ='green',marker='*',s=300)\n",
    "\n",
    "plt.plot(df['SL'][df['pred'] == 0],df['SW'][df['pred']==0],'r.')\n",
    "plt.plot(df['SL'][df['pred'] == 1],df['SW'][df['pred']==1],'y.')\n",
    "plt.plot(df['SL'][df['pred'] == 2],df['SW'][df['pred']==2],'b.')\n",
    "\n",
    "plt.subplot(122)\n",
    "plt.scatter(model.cluster_centers_[:,2],\n",
    "           model.cluster_centers_[:,3],\n",
    "           color ='green',marker='*',s=300)\n",
    "\n",
    "plt.plot(df['PL'][df['pred'] == 0],df['PW'][df['pred']==0],'r.')\n",
    "plt.plot(df['PL'][df['pred'] == 1],df['PW'][df['pred']==1],'y.')\n",
    "plt.plot(df['PL'][df['pred'] == 2],df['PW'][df['pred']==2],'b.')"
   ]
  },
  {
   "cell_type": "code",
   "execution_count": 10,
   "metadata": {},
   "outputs": [
    {
     "name": "stdout",
     "output_type": "stream",
     "text": [
      "[681.3706, 152.34795176035792, 78.85144142614601, 57.25600931571815, 46.44618205128205, 39.2865051948052, 34.39532640692641, 30.185072738664847, 28.22209307359308, 26.442395789665984, 24.305938923821277, 23.570413883502123, 21.60028806303663, 20.25636150107203]\n"
     ]
    }
   ],
   "source": [
    "k = range(1,15)\n",
    "inertia = []\n",
    "for i in k:\n",
    "    model1 =KMeans(n_clusters = i)\n",
    "    model1.fit(df[['SL','SW','PL','PW']])\n",
    "    inertia.append(model1.inertia_)\n",
    "\n",
    "print(inertia)"
   ]
  },
  {
   "cell_type": "code",
   "execution_count": 11,
   "metadata": {},
   "outputs": [
    {
     "data": {
      "text/plain": [
       "Text(4, 200, 'Best k value = 3')"
      ]
     },
     "execution_count": 11,
     "metadata": {},
     "output_type": "execute_result"
    },
    {
     "data": {
      "image/png": "[encoded data removed]",
      "text/plain": [
       "<Figure size 432x288 with 1 Axes>"
      ]
     },
     "metadata": {
      "needs_background": "light"
     },
     "output_type": "display_data"
    }
   ],
   "source": [
    "plt.plot(k,inertia)\n",
    "plt.xlabel('k value')\n",
    "plt.ylabel('Inertia')\n",
    "plt.plot(k[2],inertia[2],'ro')\n",
    "plt.annotate('Best k value = 3',xy=(k[2],inertia[2]),\n",
    "            xytext=(4,200),arrowprops=dict(facecolor='red',shrink=0.2))"
   ]
  },
  {
   "cell_type": "markdown",
   "metadata": {},
   "source": [
    "### Evaluation Metrics"
   ]
  },
  {
   "cell_type": "code",
   "execution_count": 12,
   "metadata": {},
   "outputs": [],
   "source": [
    "from sklearn import metrics"
   ]
  },
  {
   "cell_type": "code",
   "execution_count": 14,
   "metadata": {},
   "outputs": [
    {
     "data": {
      "text/plain": [
       "array([[50,  0,  0],\n",
       "       [ 0, 48,  2],\n",
       "       [ 0, 14, 36]])"
      ]
     },
     "execution_count": 14,
     "metadata": {},
     "output_type": "execute_result"
    }
   ],
   "source": [
    "# Contingency Matrix\n",
    "metrics.cluster.contingency_matrix(df['target'],df['pred'])"
   ]
  },
  {
   "cell_type": "code",
   "execution_count": 15,
   "metadata": {},
   "outputs": [
    {
     "data": {
      "text/plain": [
       "array([[50,  0,  0],\n",
       "       [ 0, 48,  2],\n",
       "       [ 0, 14, 36]], dtype=int64)"
      ]
     },
     "execution_count": 15,
     "metadata": {},
     "output_type": "execute_result"
    }
   ],
   "source": [
    "metrics.confusion_matrix(df['target'],df['pred'])"
   ]
  },
  {
   "cell_type": "code",
   "execution_count": 13,
   "metadata": {},
   "outputs": [
    {
     "data": {
      "text/plain": [
       "0.7302382722834697"
      ]
     },
     "execution_count": 13,
     "metadata": {},
     "output_type": "execute_result"
    }
   ],
   "source": [
    "# Adjusted rendom index => similarity\n",
    "metrics.adjusted_rand_score(df['target'],df['pred'])"
   ]
  },
  {
   "cell_type": "code",
   "execution_count": 16,
   "metadata": {},
   "outputs": [
    {
     "name": "stdout",
     "output_type": "stream",
     "text": [
      "0.7551191675800484\n"
     ]
    }
   ],
   "source": [
    "# Mutual information score => agreement\n",
    "print(metrics.adjusted_mutual_info_score(df['target'],df['pred']))"
   ]
  },
  {
   "cell_type": "code",
   "execution_count": 17,
   "metadata": {},
   "outputs": [
    {
     "data": {
      "text/plain": [
       "0.7514854021988338"
      ]
     },
     "execution_count": 17,
     "metadata": {},
     "output_type": "execute_result"
    }
   ],
   "source": [
    "# Homogenitas / homogeneity\n",
    "metrics.homogeneity_score(df['target'],df['pred'])"
   ]
  },
  {
   "cell_type": "code",
   "execution_count": 18,
   "metadata": {},
   "outputs": [
    {
     "data": {
      "text/plain": [
       "0.7649861514489815"
      ]
     },
     "execution_count": 18,
     "metadata": {},
     "output_type": "execute_result"
    }
   ],
   "source": [
    "# Completeness / komplisitas \n",
    "metrics.completeness_score(df['target'],df['pred'])"
   ]
  },
  {
   "cell_type": "code",
   "execution_count": 19,
   "metadata": {},
   "outputs": [
    {
     "data": {
      "text/plain": [
       "0.7581756800057784"
      ]
     },
     "execution_count": 19,
     "metadata": {},
     "output_type": "execute_result"
    }
   ],
   "source": [
    "# Rata - rata harmonis homogenitas & komplisitas : v-Measure\n",
    "metrics.v_measure_score(df['target'],df['pred'])"
   ]
  },
  {
   "cell_type": "code",
   "execution_count": 21,
   "metadata": {},
   "outputs": [
    {
     "data": {
      "text/plain": [
       "(0.7514854021988338, 0.7649861514489815, 0.7581756800057784)"
      ]
     },
     "execution_count": 21,
     "metadata": {},
     "output_type": "execute_result"
    }
   ],
   "source": [
    "metrics.homogeneity_completeness_v_measure(df['target'],df['pred'])"
   ]
  },
  {
   "cell_type": "code",
   "execution_count": 22,
   "metadata": {},
   "outputs": [
    {
     "data": {
      "text/plain": [
       "0.8208080729114153"
      ]
     },
     "execution_count": 22,
     "metadata": {},
     "output_type": "execute_result"
    }
   ],
   "source": [
    "# Fowlkes-Mallows scores => TP / sqrt((TP+FP) * (TP+FN))\n",
    "metrics.fowlkes_mallows_score(df['target'],df['pred'])"
   ]
  },
  {
   "cell_type": "markdown",
   "metadata": {},
   "source": [
    "<hr>\n",
    "\n",
    "### Unknown Labels"
   ]
  },
  {
   "cell_type": "code",
   "execution_count": 24,
   "metadata": {},
   "outputs": [
    {
     "data": {
      "text/plain": [
       "0.5528190123564091"
      ]
     },
     "execution_count": 24,
     "metadata": {},
     "output_type": "execute_result"
    }
   ],
   "source": [
    "# Silhouette coefficient / koef bayangan\n",
    "# -1 s/d 1 => seberapa bagus model mendefinisikan cluster\n",
    "metrics.silhouette_score(df[['SL','SW','PL','PW']],\n",
    "                        model.labels_)"
   ]
  },
  {
   "cell_type": "code",
   "execution_count": 25,
   "metadata": {},
   "outputs": [
    {
     "name": "stdout",
     "output_type": "stream",
     "text": [
      "561.62775662962\n"
     ]
    }
   ],
   "source": [
    "# Calinski-Harabasz index : variasi rasio criterion\n",
    "# Seberapa bagus  model mendefinisikan cluster\n",
    "print(metrics.calinski_harabasz_score(df[['SL','SW','PL','PW']],model.labels_))"
   ]
  },
  {
   "cell_type": "code",
   "execution_count": 27,
   "metadata": {},
   "outputs": [
    {
     "data": {
      "text/plain": [
       "0.6619715465007528"
      ]
     },
     "execution_count": 27,
     "metadata": {},
     "output_type": "execute_result"
    }
   ],
   "source": [
    "# Davies-Bouldin Index\n",
    "# Makin rendah nilainya makin bagus model dalam memisahkan cluster\n",
    "metrics.davies_bouldin_score(df[['SL','SW','PL','PW']],model.labels_)"
   ]
  },
  {
   "cell_type": "markdown",
   "metadata": {},
   "source": [
    "<hr>\n"
   ]
  },
  {
   "cell_type": "markdown",
   "metadata": {},
   "source": [
    "1. Preprocessing\n",
    "    - Lihat Korelasi\n",
    "    - Cleaning : \n",
    "        - Data Nan\n",
    "        - Data Outlier\n",
    "        - Feature tdk perlu\n",
    "    - Labelling :\n",
    "        - Dummy Var Pandas\n",
    "        - Label Encoder, One Hot Encoder\n",
    "    - Standardize:\n",
    "        - Standard Scaler\n",
    "        - Normalisasi(MinMax Scaler)\n",
    "        - Max Abs Scaler\n",
    "        - Robust Scaler\n",
    "        - Normalizer\n",
    "        - Quantile Transformer\n",
    "        - Binarizer\n",
    "    - PCA\n",
    "    - Splitting\n",
    "    \n",
    "2. Modelling:\n",
    "\n",
    "1. Regresi\n",
    "    - Linear Regression\n",
    "    - Ridge Regression\n",
    "    - Polynomial Regression\n",
    "    - OLS / Simple Linear Regression\n",
    "    - LASSO ,Ridge, Elastic Net Regression\n",
    "    - Classification Model's Regressor\n",
    "\n",
    "2. Classification\n",
    "    - Logistic Regression\n",
    "    - Decision tree\n",
    "    - Random Forest - Extreme Random Forest\n",
    "    - Adaboost -> stump : 1 root & 2 leaf\n",
    "    - KNN\n",
    "    - Naive-Bayes\n",
    "    - SVM Support Vector Machine -> SVC\n",
    "\n",
    "3. Clustering\n",
    "    - KMeans\n",
    "    - Affinity Propagation\n",
    "    - Mean Shift\n",
    "    - Spectral Clustering\n",
    "    - Hierarchical clustering\n",
    "    - DBSCAN\n",
    "    - OPTICS\n",
    "    - Birch\n",
    "    - Eva Metrics target OK : Contingency matrix, adjusted random index, mutual info, fowlkes-mallows, homogen, complete, v-measure\n",
    "    - Eva metrics target unknown : silhouette coef, calinski-harabasz, davies-bouldin\n",
    "    \n",
    "4. Evaluation Metrics :\n",
    "    - Regresi (Prioritas: MAE, MSE, RMSE)\n",
    "    - Klasifikasi :\n",
    "        - Confusion matrix(Prioritas: Recall+, Precision, F1 Score)\n",
    "        - Jaccard Score\n",
    "        - ROc AUC\n",
    "        - Classification Report\n",
    "        - Precision_recall_fscore_support\n",
    "5. Inverse Tranform\n",
    "6. Visualisasi\n",
    "7. Deploy\n",
    "    "
   ]
  },
  {
   "cell_type": "code",
   "execution_count": null,
   "metadata": {},
   "outputs": [],
   "source": []
  }
 ],
 "metadata": {
  "kernelspec": {
   "display_name": "Python 3",
   "language": "python",
   "name": "python3"
  },
  "language_info": {
   "codemirror_mode": {
    "name": "ipython",
    "version": 3
   },
   "file_extension": ".py",
   "mimetype": "text/x-python",
   "name": "python",
   "nbconvert_exporter": "python",
   "pygments_lexer": "ipython3",
   "version": "3.7.6"
  }
 },
 "nbformat": 4,
 "nbformat_minor": 4
}
